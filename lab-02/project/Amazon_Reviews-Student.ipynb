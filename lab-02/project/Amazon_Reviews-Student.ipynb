{
 "cells": [
  {
   "cell_type": "markdown",
   "metadata": {},
   "source": [
    "# Problem: Recommend Movies or Shows to Users"
   ]
  },
  {
   "cell_type": "markdown",
   "metadata": {},
   "source": [
    "Modified from:\n",
    "- [Implementing a Recommender System with SageMaker, MXNet, and Gluon](https://github.com/awslabs/amazon-sagemaker-examples/blob/master/introduction_to_applying_machine_learning/gluon_recommender_system/gluon_recommender_system.ipynb)\n",
    "- [An Introduction to Factorization Machines with MNIST](https://github.com/awslabs/amazon-sagemaker-examples/blob/master/introduction_to_amazon_algorithms/factorization_machines_mnist/factorization_machines_mnist.ipynb)\n",
    "- [Extending Amazon SageMaker Factorization Machines Algorithm to Predict Top X Recommendations](https://aws.amazon.com/blogs/machine-learning/extending-amazon-sagemaker-factorization-machines-algorithm-to-predict-top-x-recommendations/)"
   ]
  },
  {
   "cell_type": "markdown",
   "metadata": {},
   "source": [
    "## Introduction to business scenario\n",
    "\n",
    "You work for a startup that focuses on delivering on-demand video streaming services to users. The company wants to introduce movie/show recommendations for their users based on their viewing history.\n",
    "\n",
    "You are tasked with solving part of this problem by leveraging machine learning to create a recommendation engine to be used on the user website. You are given access to the dataset of historical user preferences and the movies they watched. You can use this to train a machine learning model to recommend movies/shows to watch.\n",
    "\n",
    "## About this dataset  \n",
    "The Amazon Customer Reviews Dataset is a collection of reviews on different products from the Amazon.com marketplace from 1995 until 2015. Customer reviews are one of the most important data types at Amazon. Collecting and showing reviews has been part of the Amazon culture since the beginning of the company and is arguably one important source of innovation. For more details on this dataset, see [Amazon Customer Reviews Dataset](https://s3.amazonaws.com/amazon-reviews-pds/readme.html).\n",
    "\n",
    "This exercise focuses on reviews of videos. The videos dataset contains 1- to 5-star ratings from over 2M Amazon customers on 160K digital videos."
   ]
  },
  {
   "cell_type": "markdown",
   "metadata": {},
   "source": [
    "### Features\n",
    "\n",
    "**Data columns**\n",
    "\n",
    "- `marketplace`: Two-letter country code (in this case, all \"US\")\n",
    "- `customer_id`: Random identifier that can be used to aggregate reviews written by a single author\n",
    "- `review_id`: Unique ID for the review\n",
    "- `product_id`: Amazon Standard Identification Number (ASIN). http://www.amazon.com/dp/<ASIN\\> links to the product's detail page.\n",
    "- `product_parent`: The parent of that ASIN. Multiple ASINs (color or format variations of the same product) can roll up into a single parent.\n",
    "- `product_title`: Title description of the product\n",
    "- `product_category`: Broad product category that can be used to group reviews (in this case, digital videos)\n",
    "- `star_rating`: Product's rating (1 to 5 stars)\n",
    "- `helpful_votes`: Number of helpful votes for the review\n",
    "- `total_votes`: Number of total votes the review received\n",
    "- `vine`: Was the review written as part of the Vine program?\n",
    "- `verified_purchase`: Was the review from a verified purchase?\n",
    "- `review_headline`: Title of the review itself\n",
    "- `review_body`: Text of the review\n",
    "- `review_date`: Date the review was written\n",
    "\n",
    "\n",
    "**Data format**\n",
    "- Tab `\\t` separated text file, without quote or escape characters\n",
    "- First line in each file is header; 1 line corresponds to 1 record\n",
    "\n",
    "### Dataset attributions\n",
    "\n",
    "Website: https://s3.amazonaws.com/amazon-reviews-pds/readme.html\n",
    "\n",
    "This dataset is being provided to you by permission of Amazon and is subject to the terms of the AWS Digital Training Service Agreement (available at https://aws.amazon.com/training/digital-training-agreement). You are expressly prohibited from copying, modifying, selling, exporting, or using this dataset in any way other than for the purpose of completing this lab."
   ]
  },
  {
   "cell_type": "markdown",
   "metadata": {},
   "source": [
    "## Brainstorming and designing a question...\n",
    "\n",
    "...That you can answer with machine learning. \n",
    "\n",
    "The first step in most projects is to think about the question you want to ask, how the data available supports this question, and which tool (in this case, machine learning model) you are going to use to answer the question. This is an important step because it helps narrow the scope of exploration and gives clarity on the features that you are going to use. \n",
    "\n",
    "Take a moment to write your thoughts regarding the dataset in the cell below. What are the things you can predict with machine learning? Why may that be relevant from a business/client perspective? Explain why you consider these thoughts important."
   ]
  },
  {
   "cell_type": "code",
   "execution_count": null,
   "metadata": {},
   "outputs": [],
   "source": [
    "# Write your thoughts here"
   ]
  },
  {
   "cell_type": "markdown",
   "metadata": {},
   "source": [
    "There might be several ideas about what to do with the data, but for now we are all going to work on recommending a video to a particular user."
   ]
  },
  {
   "cell_type": "markdown",
   "metadata": {},
   "source": [
    "## Recommendation and factorization machines\n",
    "\n",
    "In many ways, recommender systems were a catalyst for the current popularity of machine learning. One of Amazon's earliest successes was the \"Customers who bought this, also bought...\" feature. The million dollar Netflix Prize spurred research, raised public awareness, and inspired numerous other data science competitions.\n",
    "\n",
    "Recommender systems can utilize a multitude of data sources and machine learning algorithms. Most combine various unsupervised, supervised, and reinforcement learning techniques into a holistic framework. However, the core component is almost always a model that predicts a user's rating (or purchase) for a certain item based on that user's historical ratings of similar items as well as the behavior of other similar users. The minimal required dataset for this is a history of user item ratings (which we have).\n",
    "\n",
    "The method that you'll use is a factorization machine. A factorization machine is a general-purpose supervised learning algorithm that you can use for both classification and regression tasks. It is an extension of a linear model and is designed to parsimoniously (simply) capture interactions between features in high-dimensional sparse datasets. This makes it a good candidate to handle data patterns with features such as click prediction and item recommendation."
   ]
  },
  {
   "cell_type": "markdown",
   "metadata": {},
   "source": [
    "# Step 1: Problem formulation and data collection\n",
    "\n",
    "Start this project off by writing a few sentences below that summarize the business problem and the business goal you're trying to achieve in this scenario. Include a business metric you would like your team to aspire toward. With that information defined, clearly write out the machine learning problem statement. Finally, add a comment or two about the type of machine learning this represents.\n",
    "\n",
    "#### <span style=\"color: blue;\">Project presentation: Include a summary of these details in your project presentations.</span>"
   ]
  },
  {
   "cell_type": "markdown",
   "metadata": {},
   "source": [
    "### Read through a business scenario and:\n",
    "\n",
    "### 1. Determine if and why ML is an appropriate solution to deploy."
   ]
  },
  {
   "cell_type": "code",
   "execution_count": null,
   "metadata": {},
   "outputs": [],
   "source": [
    "# Write your answer here"
   ]
  },
  {
   "cell_type": "markdown",
   "metadata": {},
   "source": [
    "### 2. Formulate the business problem, success metrics, and desired ML output."
   ]
  },
  {
   "cell_type": "code",
   "execution_count": null,
   "metadata": {},
   "outputs": [],
   "source": [
    "# Write your answer here"
   ]
  },
  {
   "cell_type": "markdown",
   "metadata": {},
   "source": [
    "### 3. Identify the type of ML problem you’re dealing with."
   ]
  },
  {
   "cell_type": "code",
   "execution_count": null,
   "metadata": {},
   "outputs": [],
   "source": [
    "# Write your answer here"
   ]
  },
  {
   "cell_type": "markdown",
   "metadata": {},
   "source": [
    "### 4. Analyze the appropriateness of the data you’re working with."
   ]
  },
  {
   "cell_type": "code",
   "execution_count": null,
   "metadata": {},
   "outputs": [],
   "source": [
    "# Write your answer here"
   ]
  },
  {
   "cell_type": "markdown",
   "metadata": {},
   "source": [
    "### Setup\n",
    "\n",
    "Now that we have decided where to focus our energy, let's set things up so you can start working on solving the problem.\n",
    "\n",
    "**Note:** This notebook was created and tested on an `ml.m4.xlarge` notebook instance. \n",
    "\n",
    "Start by specifying:\n",
    "- The Amazon Simple Storage Service (Amazon S3) bucket and prefix(?) that you want to use for training and model data. This should be within the same Region as the Notebook Instance, training, and hosting.\n",
    "- The AWS Identity and Access Management (IAM) role [Amazon Resource Name (ARN)](https://docs.aws.amazon.com/general/latest/gr/aws-arns-and-namespaces.html) used to give training and hosting access to your data. See the documentation for how to create these.\n",
    "\n",
    "**Note:** If more than one role is required for notebook instances, training, and/or hosting, replace the `get_execution_role()` call with the appropriate full IAM role ARN string(s)."
   ]
  },
  {
   "cell_type": "markdown",
   "metadata": {},
   "source": [
    "Replace **`<LabBucketName>`** with the resource name that was provided with your lab account."
   ]
  },
  {
   "cell_type": "code",
   "execution_count": 1,
   "metadata": {},
   "outputs": [],
   "source": [
    "# Change the bucket and prefix according to your information\n",
    "bucket = 'labstack-1cc0ce04-4273-44cd-b37c-9bdff7-labbucket-1pqheqa41ltde'\n",
    "prefix = 'sagemaker-fm' \n",
    "\n",
    "import sagemaker\n",
    "role = sagemaker.get_execution_role()"
   ]
  },
  {
   "cell_type": "markdown",
   "metadata": {},
   "source": [
    "Now, load some Python libraries you'll need for the remainder of this example notebook."
   ]
  },
  {
   "cell_type": "code",
   "execution_count": 2,
   "metadata": {},
   "outputs": [],
   "source": [
    "import os, subprocess\n",
    "import warnings\n",
    "import pandas as pd\n",
    "import numpy as np\n",
    "import sagemaker\n",
    "from sagemaker.mxnet import MXNet\n",
    "import boto3\n",
    "import json\n",
    "import matplotlib.pyplot as plt\n",
    "import seaborn as sns\n",
    "\n",
    "# Add this to display all the outputs in the cell and not just the last one\n",
    "from IPython.core.interactiveshell import InteractiveShell\n",
    "InteractiveShell.ast_node_interactivity = \"all\"\n",
    "\n",
    "# Ignore warnings\n",
    "warnings.filterwarnings(\"ignore\")"
   ]
  },
  {
   "cell_type": "markdown",
   "metadata": {},
   "source": [
    "# Step 2: Data preprocessing and visualization \n",
    "In this data preprocessing phase, you should take the opportunity to explore and visualize your data to better understand it. First, import the necessary libraries and read the data into a Pandas dataframe. After that, explore your data. Look for the shape of the dataset and explore your columns and the types of columns you're working with (numerical, categorical). Consider performing basic statistics on the features to get a sense of feature means and ranges. Take a close look at your target column and determine its distribution.\n",
    "\n",
    "### Specific questions to consider\n",
    "1. What can you deduce from the basic statistics you ran on the features? \n",
    "\n",
    "2. What can you deduce from the distributions of the target classes?\n",
    "\n",
    "3. Is there anything else you deduced from exploring the data?\n",
    "\n",
    "#### <span style=\"color: blue;\">Project presentation: Include a summary of your answers to these and other similar questions in your project presentations.</span>\n",
    "\n",
    "Start by bringing in the dataset from an Amazon S3 public bucket to this notebook environment."
   ]
  },
  {
   "cell_type": "code",
   "execution_count": 3,
   "metadata": {},
   "outputs": [
    {
     "data": {
      "text/plain": [
       "CompletedProcess(args=['mkdir', '-p', '/home/ec2-user/SageMaker/project/data/AmazonReviews'], returncode=0)"
      ]
     },
     "execution_count": 3,
     "metadata": {},
     "output_type": "execute_result"
    },
    {
     "name": "stdout",
     "output_type": "stream",
     "text": [
      "download: s3://amazon-reviews-pds/tsv/amazon_reviews_us_Digital_Video_Download_v1_00.tsv.gz to data/AmazonReviews/amazon_reviews_us_Digital_Video_Download_v1_00.tsv.gz\n"
     ]
    },
    {
     "data": {
      "text/plain": [
       "CompletedProcess(args=['aws', 's3', 'cp', 's3://amazon-reviews-pds/tsv/amazon_reviews_us_Digital_Video_Download_v1_00.tsv.gz', '/home/ec2-user/SageMaker/project/data/AmazonReviews'], returncode=0)"
      ]
     },
     "execution_count": 3,
     "metadata": {},
     "output_type": "execute_result"
    }
   ],
   "source": [
    "# Check whether the file is already in the desired path or if it needs to be downloaded\n",
    "\n",
    "base_path = '/home/ec2-user/SageMaker/project/data/AmazonReviews'\n",
    "file_path = '/amazon_reviews_us_Digital_Video_Download_v1_00.tsv.gz'\n",
    "\n",
    "if not os.path.isfile(base_path + file_path):\n",
    "    subprocess.run(['mkdir', '-p', base_path])\n",
    "    subprocess.run(['aws', 's3', 'cp', 's3://amazon-reviews-pds/tsv' + file_path, base_path])\n",
    "else:\n",
    "    print('File already downloaded!')"
   ]
  },
  {
   "cell_type": "markdown",
   "metadata": {},
   "source": [
    "### Reading the dataset\n",
    "\n",
    "Read the data into a Pandas dataframe so that you can know what you are dealing with.\n",
    "\n",
    "**Note:** You'll set `error_bad_lines=False` when reading the file in, because there appear to be a very small number of records that would create a problem otherwise.\n",
    "\n",
    "**Hint:** You can use the built-in Python `read_csv` function ([documentation](https://pandas.pydata.org/pandas-docs/stable/reference/api/pandas.read_csv.html)). You can use the file path directly with Pandas `read_csv` with `delimiter='\\t'`.\n",
    "\n",
    "For example: `pd.read_csv('filename.tar.gz', delimiter = '\\t', error_bad_lines=False)`"
   ]
  },
  {
   "cell_type": "code",
   "execution_count": 4,
   "metadata": {},
   "outputs": [
    {
     "name": "stderr",
     "output_type": "stream",
     "text": [
      "b'Skipping line 92523: expected 15 fields, saw 22\\n'\n",
      "b'Skipping line 343254: expected 15 fields, saw 22\\n'\n",
      "b'Skipping line 524626: expected 15 fields, saw 22\\n'\n",
      "b'Skipping line 623024: expected 15 fields, saw 22\\n'\n",
      "b'Skipping line 977412: expected 15 fields, saw 22\\n'\n",
      "b'Skipping line 1496867: expected 15 fields, saw 22\\n'\n",
      "b'Skipping line 1711638: expected 15 fields, saw 22\\n'\n",
      "b'Skipping line 1787213: expected 15 fields, saw 22\\n'\n",
      "b'Skipping line 2395306: expected 15 fields, saw 22\\n'\n",
      "b'Skipping line 2527690: expected 15 fields, saw 22\\n'\n"
     ]
    }
   ],
   "source": [
    "df = pd.read_csv(base_path + file_path, \n",
    "                 delimiter='\\t',\n",
    "                 error_bad_lines=False)"
   ]
  },
  {
   "cell_type": "markdown",
   "metadata": {},
   "source": [
    "Print the first few rows of your dataset.  \n",
    "\n",
    "**Hint**: Use the `pandas.head(<number>)` function to print the rows."
   ]
  },
  {
   "cell_type": "code",
   "execution_count": 5,
   "metadata": {
    "scrolled": true
   },
   "outputs": [
    {
     "data": {
      "text/html": [
       "<div>\n",
       "<style scoped>\n",
       "    .dataframe tbody tr th:only-of-type {\n",
       "        vertical-align: middle;\n",
       "    }\n",
       "\n",
       "    .dataframe tbody tr th {\n",
       "        vertical-align: top;\n",
       "    }\n",
       "\n",
       "    .dataframe thead th {\n",
       "        text-align: right;\n",
       "    }\n",
       "</style>\n",
       "<table border=\"1\" class=\"dataframe\">\n",
       "  <thead>\n",
       "    <tr style=\"text-align: right;\">\n",
       "      <th></th>\n",
       "      <th>marketplace</th>\n",
       "      <th>customer_id</th>\n",
       "      <th>review_id</th>\n",
       "      <th>product_id</th>\n",
       "      <th>product_parent</th>\n",
       "      <th>product_title</th>\n",
       "      <th>product_category</th>\n",
       "      <th>star_rating</th>\n",
       "      <th>helpful_votes</th>\n",
       "      <th>total_votes</th>\n",
       "      <th>vine</th>\n",
       "      <th>verified_purchase</th>\n",
       "      <th>review_headline</th>\n",
       "      <th>review_body</th>\n",
       "      <th>review_date</th>\n",
       "    </tr>\n",
       "  </thead>\n",
       "  <tbody>\n",
       "    <tr>\n",
       "      <th>0</th>\n",
       "      <td>US</td>\n",
       "      <td>12190288</td>\n",
       "      <td>R3FU16928EP5TC</td>\n",
       "      <td>B00AYB1482</td>\n",
       "      <td>668895143</td>\n",
       "      <td>Enlightened: Season 1</td>\n",
       "      <td>Digital_Video_Download</td>\n",
       "      <td>5</td>\n",
       "      <td>0</td>\n",
       "      <td>0</td>\n",
       "      <td>N</td>\n",
       "      <td>Y</td>\n",
       "      <td>I loved it and I wish there was a season 3</td>\n",
       "      <td>I loved it and I wish there was a season 3... ...</td>\n",
       "      <td>2015-08-31</td>\n",
       "    </tr>\n",
       "    <tr>\n",
       "      <th>1</th>\n",
       "      <td>US</td>\n",
       "      <td>30549954</td>\n",
       "      <td>R1IZHHS1MH3AQ4</td>\n",
       "      <td>B00KQD28OM</td>\n",
       "      <td>246219280</td>\n",
       "      <td>Vicious</td>\n",
       "      <td>Digital_Video_Download</td>\n",
       "      <td>5</td>\n",
       "      <td>0</td>\n",
       "      <td>0</td>\n",
       "      <td>N</td>\n",
       "      <td>Y</td>\n",
       "      <td>As always it seems that the best shows come fr...</td>\n",
       "      <td>As always it seems that the best shows come fr...</td>\n",
       "      <td>2015-08-31</td>\n",
       "    </tr>\n",
       "    <tr>\n",
       "      <th>2</th>\n",
       "      <td>US</td>\n",
       "      <td>52895410</td>\n",
       "      <td>R52R85WC6TIAH</td>\n",
       "      <td>B01489L5LQ</td>\n",
       "      <td>534732318</td>\n",
       "      <td>After Words</td>\n",
       "      <td>Digital_Video_Download</td>\n",
       "      <td>4</td>\n",
       "      <td>17</td>\n",
       "      <td>18</td>\n",
       "      <td>N</td>\n",
       "      <td>Y</td>\n",
       "      <td>Charming movie</td>\n",
       "      <td>This movie isn't perfect, but it gets a lot of...</td>\n",
       "      <td>2015-08-31</td>\n",
       "    </tr>\n",
       "  </tbody>\n",
       "</table>\n",
       "</div>"
      ],
      "text/plain": [
       "  marketplace  customer_id       review_id  product_id  product_parent  \\\n",
       "0          US     12190288  R3FU16928EP5TC  B00AYB1482       668895143   \n",
       "1          US     30549954  R1IZHHS1MH3AQ4  B00KQD28OM       246219280   \n",
       "2          US     52895410   R52R85WC6TIAH  B01489L5LQ       534732318   \n",
       "\n",
       "           product_title        product_category  star_rating  helpful_votes  \\\n",
       "0  Enlightened: Season 1  Digital_Video_Download            5              0   \n",
       "1                Vicious  Digital_Video_Download            5              0   \n",
       "2            After Words  Digital_Video_Download            4             17   \n",
       "\n",
       "   total_votes vine verified_purchase  \\\n",
       "0            0    N                 Y   \n",
       "1            0    N                 Y   \n",
       "2           18    N                 Y   \n",
       "\n",
       "                                     review_headline  \\\n",
       "0         I loved it and I wish there was a season 3   \n",
       "1  As always it seems that the best shows come fr...   \n",
       "2                                     Charming movie   \n",
       "\n",
       "                                         review_body review_date  \n",
       "0  I loved it and I wish there was a season 3... ...  2015-08-31  \n",
       "1  As always it seems that the best shows come fr...  2015-08-31  \n",
       "2  This movie isn't perfect, but it gets a lot of...  2015-08-31  "
      ]
     },
     "execution_count": 5,
     "metadata": {},
     "output_type": "execute_result"
    }
   ],
   "source": [
    "df.head(3)"
   ]
  },
  {
   "cell_type": "markdown",
   "metadata": {},
   "source": [
    "Now what is the information contained in all the columns?"
   ]
  },
  {
   "cell_type": "markdown",
   "metadata": {},
   "source": [
    "### Anatomy of the dataset\n",
    "\n",
    "Get a little more comfortable with the data and see what features are at hand.\n",
    "\n",
    "- `marketplace`: Two-letter country code (in this case, all \"US\")\n",
    "- `customer_id`: Random identifier that can be used to aggregate reviews written by a single author\n",
    "- `review_id`: Unique ID for the review\n",
    "- `product_id`: Amazon Standard Identification Number (ASIN). http://www.amazon.com/dp/<ASIN\\> links to the product's detail page.\n",
    "- `product_parent`: The parent of that ASIN. Multiple ASINs (color or format variations of the same product) can roll up into a single parent.\n",
    "- `product_title`: Title description of the product\n",
    "- `product_category`: Broad product category that can be used to group reviews (in this case, digital videos)\n",
    "- `star_rating`: Product's rating (1 to 5 stars)\n",
    "- `helpful_votes`: Number of helpful votes for the review\n",
    "- `total_votes`: Number of total votes the review received\n",
    "- `vine`: Was the review written as part of the Vine program?\n",
    "- `verified_purchase`: Was the review from a verified purchase?\n",
    "- `review_headline`: Title of the review itself\n",
    "- `review_body`: Text of the review\n",
    "- `review_date`: Date the review was written"
   ]
  },
  {
   "cell_type": "markdown",
   "metadata": {},
   "source": [
    "### Analyzing and understanding the dataset\n",
    "\n",
    "#### Exploring the data"
   ]
  },
  {
   "cell_type": "markdown",
   "metadata": {},
   "source": [
    "**Hint:** You can refer [here](https://pandas.pydata.org/pandas-docs/stable/reference/frame.html) to answer the following questions. \n",
    "\n",
    "**Question:** How many rows and columns do you have in the dataset?"
   ]
  },
  {
   "cell_type": "markdown",
   "metadata": {},
   "source": [
    "Check the size of the dataset.  \n",
    "\n",
    "**Hint**: Use the `<dataframe>.shape` function to check the size of your dataframe"
   ]
  },
  {
   "cell_type": "code",
   "execution_count": 6,
   "metadata": {},
   "outputs": [
    {
     "data": {
      "text/plain": [
       "(3998345, 15)"
      ]
     },
     "execution_count": 6,
     "metadata": {},
     "output_type": "execute_result"
    }
   ],
   "source": [
    "df.shape"
   ]
  },
  {
   "cell_type": "markdown",
   "metadata": {},
   "source": [
    "**Question:** Which columns contain null values, and how many null values do they contain?"
   ]
  },
  {
   "cell_type": "markdown",
   "metadata": {},
   "source": [
    "Print a summary of the dataset.  \n",
    "\n",
    "**Hint**: Use `<dataframe>.info` function using the keyword arguments `null_counts = True`"
   ]
  },
  {
   "cell_type": "code",
   "execution_count": 7,
   "metadata": {},
   "outputs": [
    {
     "name": "stdout",
     "output_type": "stream",
     "text": [
      "<class 'pandas.core.frame.DataFrame'>\n",
      "RangeIndex: 3998345 entries, 0 to 3998344\n",
      "Data columns (total 15 columns):\n",
      " #   Column             Non-Null Count    Dtype \n",
      "---  ------             --------------    ----- \n",
      " 0   marketplace        3998345 non-null  object\n",
      " 1   customer_id        3998345 non-null  int64 \n",
      " 2   review_id          3998345 non-null  object\n",
      " 3   product_id         3998345 non-null  object\n",
      " 4   product_parent     3998345 non-null  int64 \n",
      " 5   product_title      3998345 non-null  object\n",
      " 6   product_category   3998345 non-null  object\n",
      " 7   star_rating        3998345 non-null  int64 \n",
      " 8   helpful_votes      3998345 non-null  int64 \n",
      " 9   total_votes        3998345 non-null  int64 \n",
      " 10  vine               3998345 non-null  object\n",
      " 11  verified_purchase  3998345 non-null  object\n",
      " 12  review_headline    3998320 non-null  object\n",
      " 13  review_body        3998267 non-null  object\n",
      " 14  review_date        3998207 non-null  object\n",
      "dtypes: int64(5), object(10)\n",
      "memory usage: 457.6+ MB\n"
     ]
    }
   ],
   "source": [
    "df.info(null_counts=True)"
   ]
  },
  {
   "cell_type": "code",
   "execution_count": null,
   "metadata": {},
   "outputs": [],
   "source": [
    "# Enter your Answer here"
   ]
  },
  {
   "cell_type": "markdown",
   "metadata": {},
   "source": [
    "**Question:** Are there any duplicate rows? If yes, how many are there?  \n",
    "\n",
    "**Hint**: Filter the dataframe using `dataframe.duplicated()` ([documentation](https://pandas.pydata.org/pandas-docs/stable/reference/api/pandas.DataFrame.duplicated.html#pandas.DataFrame.duplicated)) and check the length of the new dataframe."
   ]
  },
  {
   "cell_type": "code",
   "execution_count": 8,
   "metadata": {},
   "outputs": [
    {
     "data": {
      "text/plain": [
       "0"
      ]
     },
     "execution_count": 8,
     "metadata": {},
     "output_type": "execute_result"
    }
   ],
   "source": [
    "duplicates = df[df.duplicated()]\n",
    "\n",
    "len(duplicates)"
   ]
  },
  {
   "cell_type": "code",
   "execution_count": null,
   "metadata": {},
   "outputs": [],
   "source": [
    "# Answer: There are no duplicated rows."
   ]
  },
  {
   "cell_type": "markdown",
   "metadata": {},
   "source": [
    "### Data preprocessing\n",
    "\n",
    "Now it's time to decide what features you are going to use and how you are going to prepare them for your model. For this example, limit yourself to `customer_id`, `product_id`, `product_title`, and `star_rating`. Including additional features in the recommendation system could be beneficial but would require substantial processing (particularly the text data), which would be beyond the scope of this notebook.\n",
    "\n",
    "Reduce this dataset and only use the columns mentioned.  \n",
    "\n",
    "**Hint**: Select multiple columns as a dataframe by passing the columns as a list. For example: `df[['column_name 1', 'column_name 2']]`"
   ]
  },
  {
   "cell_type": "code",
   "execution_count": 9,
   "metadata": {},
   "outputs": [],
   "source": [
    "df_reduced = df[['customer_id', 'product_id', 'star_rating', 'product_title']]"
   ]
  },
  {
   "cell_type": "markdown",
   "metadata": {},
   "source": [
    "Check again if you have duplicates after reducing the dataset. "
   ]
  },
  {
   "cell_type": "code",
   "execution_count": 10,
   "metadata": {},
   "outputs": [
    {
     "data": {
      "text/plain": [
       "131"
      ]
     },
     "execution_count": 10,
     "metadata": {},
     "output_type": "execute_result"
    }
   ],
   "source": [
    "duplicates = df_reduced[df_reduced.duplicated()]\n",
    "\n",
    "len(duplicates)"
   ]
  },
  {
   "cell_type": "markdown",
   "metadata": {},
   "source": [
    "**Question:** Why do you have duplicates in your dataset now? What changed after you reduced the dataset? Review the first 20 lines of the duplicates. \n",
    "\n",
    "**Hint**: Use the `pandas.head(<number>)` function to print the rows."
   ]
  },
  {
   "cell_type": "code",
   "execution_count": 12,
   "metadata": {},
   "outputs": [
    {
     "data": {
      "text/html": [
       "<div>\n",
       "<style scoped>\n",
       "    .dataframe tbody tr th:only-of-type {\n",
       "        vertical-align: middle;\n",
       "    }\n",
       "\n",
       "    .dataframe tbody tr th {\n",
       "        vertical-align: top;\n",
       "    }\n",
       "\n",
       "    .dataframe thead th {\n",
       "        text-align: right;\n",
       "    }\n",
       "</style>\n",
       "<table border=\"1\" class=\"dataframe\">\n",
       "  <thead>\n",
       "    <tr style=\"text-align: right;\">\n",
       "      <th></th>\n",
       "      <th>customer_id</th>\n",
       "      <th>product_id</th>\n",
       "      <th>star_rating</th>\n",
       "      <th>product_title</th>\n",
       "    </tr>\n",
       "  </thead>\n",
       "  <tbody>\n",
       "    <tr>\n",
       "      <th>565194</th>\n",
       "      <td>41454255</td>\n",
       "      <td>B00Y2UYRFS</td>\n",
       "      <td>1</td>\n",
       "      <td>unseen 2</td>\n",
       "    </tr>\n",
       "    <tr>\n",
       "      <th>594322</th>\n",
       "      <td>17570065</td>\n",
       "      <td>B00R3EEO2G</td>\n",
       "      <td>2</td>\n",
       "      <td>The Maze Runner</td>\n",
       "    </tr>\n",
       "    <tr>\n",
       "      <th>611264</th>\n",
       "      <td>15703996</td>\n",
       "      <td>B00I3MQNWG</td>\n",
       "      <td>5</td>\n",
       "      <td>Bosch Season 1</td>\n",
       "    </tr>\n",
       "    <tr>\n",
       "      <th>612471</th>\n",
       "      <td>28456429</td>\n",
       "      <td>B008Y6W7J4</td>\n",
       "      <td>5</td>\n",
       "      <td>Rabbit Hole</td>\n",
       "    </tr>\n",
       "    <tr>\n",
       "      <th>613791</th>\n",
       "      <td>52388381</td>\n",
       "      <td>B00YORA25I</td>\n",
       "      <td>5</td>\n",
       "      <td>McFarland, USA (Theatrical)</td>\n",
       "    </tr>\n",
       "    <tr>\n",
       "      <th>685156</th>\n",
       "      <td>31828958</td>\n",
       "      <td>B00TT53YSW</td>\n",
       "      <td>5</td>\n",
       "      <td>Bates Motel, Season 3</td>\n",
       "    </tr>\n",
       "    <tr>\n",
       "      <th>1204110</th>\n",
       "      <td>19462</td>\n",
       "      <td>B00QWUL4AW</td>\n",
       "      <td>5</td>\n",
       "      <td>Exodus: Gods and Kings</td>\n",
       "    </tr>\n",
       "    <tr>\n",
       "      <th>1564816</th>\n",
       "      <td>24892653</td>\n",
       "      <td>B00L2GPYKW</td>\n",
       "      <td>5</td>\n",
       "      <td>The Escape Artist Season 1</td>\n",
       "    </tr>\n",
       "    <tr>\n",
       "      <th>1601662</th>\n",
       "      <td>44513234</td>\n",
       "      <td>B00NY4UIKG</td>\n",
       "      <td>5</td>\n",
       "      <td>The Equalizer</td>\n",
       "    </tr>\n",
       "    <tr>\n",
       "      <th>1616429</th>\n",
       "      <td>43345475</td>\n",
       "      <td>B00P5968FC</td>\n",
       "      <td>3</td>\n",
       "      <td>The Babadook</td>\n",
       "    </tr>\n",
       "    <tr>\n",
       "      <th>1616584</th>\n",
       "      <td>20779855</td>\n",
       "      <td>B00O99GXPE</td>\n",
       "      <td>5</td>\n",
       "      <td>Max Lucado's The Christmas Candle</td>\n",
       "    </tr>\n",
       "    <tr>\n",
       "      <th>1617034</th>\n",
       "      <td>52861226</td>\n",
       "      <td>B00Q4FMCDS</td>\n",
       "      <td>2</td>\n",
       "      <td>The November Man</td>\n",
       "    </tr>\n",
       "    <tr>\n",
       "      <th>1618497</th>\n",
       "      <td>735926</td>\n",
       "      <td>B00IQBE0BU</td>\n",
       "      <td>3</td>\n",
       "      <td>Once Upon A Forest</td>\n",
       "    </tr>\n",
       "    <tr>\n",
       "      <th>1618598</th>\n",
       "      <td>3283400</td>\n",
       "      <td>B000NPQ0II</td>\n",
       "      <td>4</td>\n",
       "      <td>Creator</td>\n",
       "    </tr>\n",
       "    <tr>\n",
       "      <th>1618822</th>\n",
       "      <td>50380731</td>\n",
       "      <td>B00C58TGQ4</td>\n",
       "      <td>3</td>\n",
       "      <td>Hemingway &amp; Gellhorn</td>\n",
       "    </tr>\n",
       "    <tr>\n",
       "      <th>1618896</th>\n",
       "      <td>5465295</td>\n",
       "      <td>B009AP2B9Y</td>\n",
       "      <td>5</td>\n",
       "      <td>Kickin' It Volume 3</td>\n",
       "    </tr>\n",
       "    <tr>\n",
       "      <th>1619053</th>\n",
       "      <td>39849456</td>\n",
       "      <td>B0035LN5YO</td>\n",
       "      <td>5</td>\n",
       "      <td>Gallipoli</td>\n",
       "    </tr>\n",
       "    <tr>\n",
       "      <th>1620635</th>\n",
       "      <td>22158610</td>\n",
       "      <td>B00M0HXNPK</td>\n",
       "      <td>5</td>\n",
       "      <td>Transcendence (2014)</td>\n",
       "    </tr>\n",
       "    <tr>\n",
       "      <th>1621358</th>\n",
       "      <td>46543213</td>\n",
       "      <td>B005OPTSIQ</td>\n",
       "      <td>5</td>\n",
       "      <td>Workaholics Season 2</td>\n",
       "    </tr>\n",
       "    <tr>\n",
       "      <th>1621751</th>\n",
       "      <td>25315183</td>\n",
       "      <td>B00NEFWXNK</td>\n",
       "      <td>5</td>\n",
       "      <td>Arrow: Season 3</td>\n",
       "    </tr>\n",
       "  </tbody>\n",
       "</table>\n",
       "</div>"
      ],
      "text/plain": [
       "         customer_id  product_id  star_rating  \\\n",
       "565194      41454255  B00Y2UYRFS            1   \n",
       "594322      17570065  B00R3EEO2G            2   \n",
       "611264      15703996  B00I3MQNWG            5   \n",
       "612471      28456429  B008Y6W7J4            5   \n",
       "613791      52388381  B00YORA25I            5   \n",
       "685156      31828958  B00TT53YSW            5   \n",
       "1204110        19462  B00QWUL4AW            5   \n",
       "1564816     24892653  B00L2GPYKW            5   \n",
       "1601662     44513234  B00NY4UIKG            5   \n",
       "1616429     43345475  B00P5968FC            3   \n",
       "1616584     20779855  B00O99GXPE            5   \n",
       "1617034     52861226  B00Q4FMCDS            2   \n",
       "1618497       735926  B00IQBE0BU            3   \n",
       "1618598      3283400  B000NPQ0II            4   \n",
       "1618822     50380731  B00C58TGQ4            3   \n",
       "1618896      5465295  B009AP2B9Y            5   \n",
       "1619053     39849456  B0035LN5YO            5   \n",
       "1620635     22158610  B00M0HXNPK            5   \n",
       "1621358     46543213  B005OPTSIQ            5   \n",
       "1621751     25315183  B00NEFWXNK            5   \n",
       "\n",
       "                             product_title  \n",
       "565194                            unseen 2  \n",
       "594322                     The Maze Runner  \n",
       "611264                      Bosch Season 1  \n",
       "612471                         Rabbit Hole  \n",
       "613791         McFarland, USA (Theatrical)  \n",
       "685156               Bates Motel, Season 3  \n",
       "1204110             Exodus: Gods and Kings  \n",
       "1564816         The Escape Artist Season 1  \n",
       "1601662                      The Equalizer  \n",
       "1616429                       The Babadook  \n",
       "1616584  Max Lucado's The Christmas Candle  \n",
       "1617034                   The November Man  \n",
       "1618497                 Once Upon A Forest  \n",
       "1618598                            Creator  \n",
       "1618822               Hemingway & Gellhorn  \n",
       "1618896                Kickin' It Volume 3  \n",
       "1619053                          Gallipoli  \n",
       "1620635               Transcendence (2014)  \n",
       "1621358               Workaholics Season 2  \n",
       "1621751                    Arrow: Season 3  "
      ]
     },
     "execution_count": 12,
     "metadata": {},
     "output_type": "execute_result"
    }
   ],
   "source": [
    "duplicates.head(20)"
   ]
  },
  {
   "cell_type": "markdown",
   "metadata": {},
   "source": [
    "**Hint:** Take a look at the first two elements in the duplicates dataframe, and query the original dataframe df to see what the data looks like. You can use the `query` function ([documentation](https://pandas.pydata.org/pandas-docs/stable/reference/api/pandas.DataFrame.query.html)).\n",
    "\n",
    "For example:\n",
    "\n",
    "```\n",
    "df_eg = pd.DataFrame({\n",
    "            'A': [1,2,3,4],\n",
    "            'B': [\n",
    "        })\n",
    "df_eg.query('A > 1 & B > 0')\n",
    "```"
   ]
  },
  {
   "cell_type": "code",
   "execution_count": 13,
   "metadata": {},
   "outputs": [
    {
     "data": {
      "text/html": [
       "<div>\n",
       "<style scoped>\n",
       "    .dataframe tbody tr th:only-of-type {\n",
       "        vertical-align: middle;\n",
       "    }\n",
       "\n",
       "    .dataframe tbody tr th {\n",
       "        vertical-align: top;\n",
       "    }\n",
       "\n",
       "    .dataframe thead th {\n",
       "        text-align: right;\n",
       "    }\n",
       "</style>\n",
       "<table border=\"1\" class=\"dataframe\">\n",
       "  <thead>\n",
       "    <tr style=\"text-align: right;\">\n",
       "      <th></th>\n",
       "      <th>marketplace</th>\n",
       "      <th>customer_id</th>\n",
       "      <th>review_id</th>\n",
       "      <th>product_id</th>\n",
       "      <th>product_parent</th>\n",
       "      <th>product_title</th>\n",
       "      <th>product_category</th>\n",
       "      <th>star_rating</th>\n",
       "      <th>helpful_votes</th>\n",
       "      <th>total_votes</th>\n",
       "      <th>vine</th>\n",
       "      <th>verified_purchase</th>\n",
       "      <th>review_headline</th>\n",
       "      <th>review_body</th>\n",
       "      <th>review_date</th>\n",
       "    </tr>\n",
       "  </thead>\n",
       "  <tbody>\n",
       "    <tr>\n",
       "      <th>588857</th>\n",
       "      <td>US</td>\n",
       "      <td>17570065</td>\n",
       "      <td>RZ0MXSMTR2WQP</td>\n",
       "      <td>B00R3EEO2G</td>\n",
       "      <td>226574237</td>\n",
       "      <td>The Maze Runner</td>\n",
       "      <td>Digital_Video_Download</td>\n",
       "      <td>2</td>\n",
       "      <td>0</td>\n",
       "      <td>0</td>\n",
       "      <td>N</td>\n",
       "      <td>Y</td>\n",
       "      <td>Two Stars</td>\n",
       "      <td>Simply doesn't engage the audience.</td>\n",
       "      <td>2015-06-08</td>\n",
       "    </tr>\n",
       "    <tr>\n",
       "      <th>594322</th>\n",
       "      <td>US</td>\n",
       "      <td>17570065</td>\n",
       "      <td>R26IBV6N1BV1VN</td>\n",
       "      <td>B00R3EEO2G</td>\n",
       "      <td>226574237</td>\n",
       "      <td>The Maze Runner</td>\n",
       "      <td>Digital_Video_Download</td>\n",
       "      <td>2</td>\n",
       "      <td>0</td>\n",
       "      <td>0</td>\n",
       "      <td>N</td>\n",
       "      <td>Y</td>\n",
       "      <td>Two Stars</td>\n",
       "      <td>Simply doesn't engage the audience.</td>\n",
       "      <td>2015-06-08</td>\n",
       "    </tr>\n",
       "  </tbody>\n",
       "</table>\n",
       "</div>"
      ],
      "text/plain": [
       "       marketplace  customer_id       review_id  product_id  product_parent  \\\n",
       "588857          US     17570065   RZ0MXSMTR2WQP  B00R3EEO2G       226574237   \n",
       "594322          US     17570065  R26IBV6N1BV1VN  B00R3EEO2G       226574237   \n",
       "\n",
       "          product_title        product_category  star_rating  helpful_votes  \\\n",
       "588857  The Maze Runner  Digital_Video_Download            2              0   \n",
       "594322  The Maze Runner  Digital_Video_Download            2              0   \n",
       "\n",
       "        total_votes vine verified_purchase review_headline  \\\n",
       "588857            0    N                 Y       Two Stars   \n",
       "594322            0    N                 Y       Two Stars   \n",
       "\n",
       "                                review_body review_date  \n",
       "588857  Simply doesn't engage the audience.  2015-06-08  \n",
       "594322  Simply doesn't engage the audience.  2015-06-08  "
      ]
     },
     "execution_count": 13,
     "metadata": {},
     "output_type": "execute_result"
    }
   ],
   "source": [
    "df.query(\"customer_id == 17570065 & product_id == 'B00R3EEO2G'\")"
   ]
  },
  {
   "cell_type": "code",
   "execution_count": null,
   "metadata": {},
   "outputs": [],
   "source": [
    "# Answer: The dataset has duplicates because there are products with the same information but different review_id or product_id."
   ]
  },
  {
   "cell_type": "markdown",
   "metadata": {},
   "source": [
    "Before continuing, remove the duplicate rows.\n",
    "\n",
    "**Hint**: Use the `~` operator to select all the rows that aren't duplicated. For example:\n",
    "    \n",
    "```\n",
    "df_eg = pd.DataFrame({\n",
    "            'A': [1,2,3,4],\n",
    "            'B': [2,0,5,2]\n",
    "        })\n",
    "df_eg[~(df_eg['B'] > 0)]\n",
    "```"
   ]
  },
  {
   "cell_type": "code",
   "execution_count": 14,
   "metadata": {},
   "outputs": [],
   "source": [
    "df_reduced = df_reduced[~df_reduced.duplicated()]"
   ]
  },
  {
   "cell_type": "markdown",
   "metadata": {},
   "source": [
    "### Visualize some of the rows in the dataset\n",
    "If you haven't done so in the above, you can use the space below to further visualize some of your data. Look specifically at the distribution of features like `star_rating`, `customer_id`, and `product_id`.\n",
    "\n",
    "**Specific questions to consider**\n",
    "\n",
    "1. After looking at the distributions of features, to what extent might those features help your model? Is there anything you can deduce from those distributions that might be helpful in better understanding your data? \n",
    "\n",
    "2. Should you use all the data? What features should you use?\n",
    "\n",
    "3. What month has the highest count of user ratings?\n",
    "\n",
    "Use the cells below to visualize your data and answer these and other questions that might be of interest to you. Insert and delete cells where needed.\n",
    "\n",
    "#### <span style=\"color: blue;\">Project presentation: Include a summary of your answers to these and similar questions in your project presentations.</span>"
   ]
  },
  {
   "cell_type": "markdown",
   "metadata": {},
   "source": [
    "Use `sns.barplot` ([documentation](https://seaborn.pydata.org/generated/seaborn.barplot.html)) to plot the `star_rating` density and distribution."
   ]
  },
  {
   "cell_type": "code",
   "execution_count": 15,
   "metadata": {},
   "outputs": [
    {
     "data": {
      "text/html": [
       "<div>\n",
       "<style scoped>\n",
       "    .dataframe tbody tr th:only-of-type {\n",
       "        vertical-align: middle;\n",
       "    }\n",
       "\n",
       "    .dataframe tbody tr th {\n",
       "        vertical-align: top;\n",
       "    }\n",
       "\n",
       "    .dataframe thead th {\n",
       "        text-align: right;\n",
       "    }\n",
       "</style>\n",
       "<table border=\"1\" class=\"dataframe\">\n",
       "  <thead>\n",
       "    <tr style=\"text-align: right;\">\n",
       "      <th></th>\n",
       "      <th>index</th>\n",
       "      <th>star_rating</th>\n",
       "    </tr>\n",
       "  </thead>\n",
       "  <tbody>\n",
       "    <tr>\n",
       "      <th>0</th>\n",
       "      <td>5</td>\n",
       "      <td>2410533</td>\n",
       "    </tr>\n",
       "    <tr>\n",
       "      <th>1</th>\n",
       "      <td>4</td>\n",
       "      <td>756423</td>\n",
       "    </tr>\n",
       "    <tr>\n",
       "      <th>2</th>\n",
       "      <td>3</td>\n",
       "      <td>345891</td>\n",
       "    </tr>\n",
       "    <tr>\n",
       "      <th>3</th>\n",
       "      <td>1</td>\n",
       "      <td>289731</td>\n",
       "    </tr>\n",
       "    <tr>\n",
       "      <th>4</th>\n",
       "      <td>2</td>\n",
       "      <td>195767</td>\n",
       "    </tr>\n",
       "  </tbody>\n",
       "</table>\n",
       "</div>"
      ],
      "text/plain": [
       "   index  star_rating\n",
       "0      5      2410533\n",
       "1      4       756423\n",
       "2      3       345891\n",
       "3      1       289731\n",
       "4      2       195767"
      ]
     },
     "execution_count": 15,
     "metadata": {},
     "output_type": "execute_result"
    },
    {
     "data": {
      "text/plain": [
       "<AxesSubplot:xlabel='index', ylabel='star_rating'>"
      ]
     },
     "execution_count": 15,
     "metadata": {},
     "output_type": "execute_result"
    },
    {
     "data": {
      "image/png": "[encoded data removed]",
      "text/plain": [
       "<Figure size 432x288 with 1 Axes>"
      ]
     },
     "metadata": {
      "needs_background": "light"
     },
     "output_type": "display_data"
    }
   ],
   "source": [
    "# Count the number of reviews with a specific rating\n",
    "df['star_rating'].value_counts().reset_index()\n",
    "sns.barplot(\n",
    "    x='index', \n",
    "    y='star_rating', \n",
    "    data=_,  # The underscore symbol in Python is used to store the output of the last operation\n",
    "    palette='GnBu_d'\n",
    ")"
   ]
  },
  {
   "cell_type": "markdown",
   "metadata": {},
   "source": [
    "**Question:** What month contains the highest count of user ratings?  \n",
    "\n",
    "**Hint**:  \n",
    "1. Use `pd.to_datetime` to convert the `review_date` column to a datetime column.  \n",
    "2. Use the month from the `review_date` column. You can access it for a datetime column using `<column_name>.dt.month`.  \n",
    "3. Use the `groupby` function using `idxmax`.  "
   ]
  },
  {
   "cell_type": "code",
   "execution_count": 16,
   "metadata": {},
   "outputs": [
    {
     "data": {
      "text/html": [
       "<div>\n",
       "<style scoped>\n",
       "    .dataframe tbody tr th:only-of-type {\n",
       "        vertical-align: middle;\n",
       "    }\n",
       "\n",
       "    .dataframe tbody tr th {\n",
       "        vertical-align: top;\n",
       "    }\n",
       "\n",
       "    .dataframe thead th {\n",
       "        text-align: right;\n",
       "    }\n",
       "</style>\n",
       "<table border=\"1\" class=\"dataframe\">\n",
       "  <thead>\n",
       "    <tr style=\"text-align: right;\">\n",
       "      <th></th>\n",
       "      <th>review_date</th>\n",
       "      <th>star_rating</th>\n",
       "    </tr>\n",
       "  </thead>\n",
       "  <tbody>\n",
       "    <tr>\n",
       "      <th>0</th>\n",
       "      <td>1.0</td>\n",
       "      <td>309083</td>\n",
       "    </tr>\n",
       "    <tr>\n",
       "      <th>1</th>\n",
       "      <td>2.0</td>\n",
       "      <td>369059</td>\n",
       "    </tr>\n",
       "    <tr>\n",
       "      <th>2</th>\n",
       "      <td>3.0</td>\n",
       "      <td>432084</td>\n",
       "    </tr>\n",
       "    <tr>\n",
       "      <th>3</th>\n",
       "      <td>4.0</td>\n",
       "      <td>363611</td>\n",
       "    </tr>\n",
       "    <tr>\n",
       "      <th>4</th>\n",
       "      <td>5.0</td>\n",
       "      <td>339285</td>\n",
       "    </tr>\n",
       "    <tr>\n",
       "      <th>5</th>\n",
       "      <td>6.0</td>\n",
       "      <td>328114</td>\n",
       "    </tr>\n",
       "    <tr>\n",
       "      <th>6</th>\n",
       "      <td>7.0</td>\n",
       "      <td>417844</td>\n",
       "    </tr>\n",
       "    <tr>\n",
       "      <th>7</th>\n",
       "      <td>8.0</td>\n",
       "      <td>464912</td>\n",
       "    </tr>\n",
       "    <tr>\n",
       "      <th>8</th>\n",
       "      <td>9.0</td>\n",
       "      <td>206453</td>\n",
       "    </tr>\n",
       "    <tr>\n",
       "      <th>9</th>\n",
       "      <td>10.0</td>\n",
       "      <td>218583</td>\n",
       "    </tr>\n",
       "    <tr>\n",
       "      <th>10</th>\n",
       "      <td>11.0</td>\n",
       "      <td>219316</td>\n",
       "    </tr>\n",
       "    <tr>\n",
       "      <th>11</th>\n",
       "      <td>12.0</td>\n",
       "      <td>329863</td>\n",
       "    </tr>\n",
       "  </tbody>\n",
       "</table>\n",
       "</div>"
      ],
      "text/plain": [
       "    review_date  star_rating\n",
       "0           1.0       309083\n",
       "1           2.0       369059\n",
       "2           3.0       432084\n",
       "3           4.0       363611\n",
       "4           5.0       339285\n",
       "5           6.0       328114\n",
       "6           7.0       417844\n",
       "7           8.0       464912\n",
       "8           9.0       206453\n",
       "9          10.0       218583\n",
       "10         11.0       219316\n",
       "11         12.0       329863"
      ]
     },
     "execution_count": 16,
     "metadata": {},
     "output_type": "execute_result"
    },
    {
     "data": {
      "text/plain": [
       "<AxesSubplot:xlabel='review_date', ylabel='star_rating'>"
      ]
     },
     "execution_count": 16,
     "metadata": {},
     "output_type": "execute_result"
    },
    {
     "data": {
      "image/png": "[encoded data removed]",
      "text/plain": [
       "<Figure size 432x288 with 1 Axes>"
      ]
     },
     "metadata": {
      "needs_background": "light"
     },
     "output_type": "display_data"
    }
   ],
   "source": [
    "# Convert the review date to a datetime type and count the number of ratings by month\n",
    "df['review_date'] = pd.to_datetime(df.review_date)\n",
    "df.groupby(df.review_date.dt.month).star_rating.count().reset_index()\n",
    "sns.barplot(x='review_date', y='star_rating', data=_, palette='GnBu_d')"
   ]
  },
  {
   "cell_type": "code",
   "execution_count": 17,
   "metadata": {},
   "outputs": [
    {
     "name": "stdout",
     "output_type": "stream",
     "text": [
      "The month with the most reviews is: 8.0\n"
     ]
    }
   ],
   "source": [
    "# Use the Pandas groupby function on month to get the star rating count\n",
    "max_month = df.groupby(df.review_date.dt.month).star_rating.count().idxmax()\n",
    "print(f'The month with the most reviews is: {max_month}')"
   ]
  },
  {
   "cell_type": "markdown",
   "metadata": {},
   "source": [
    "**Bonus question (optional):** Which years have the most and least reviews?"
   ]
  },
  {
   "cell_type": "code",
   "execution_count": 18,
   "metadata": {},
   "outputs": [
    {
     "data": {
      "text/html": [
       "<div>\n",
       "<style scoped>\n",
       "    .dataframe tbody tr th:only-of-type {\n",
       "        vertical-align: middle;\n",
       "    }\n",
       "\n",
       "    .dataframe tbody tr th {\n",
       "        vertical-align: top;\n",
       "    }\n",
       "\n",
       "    .dataframe thead th {\n",
       "        text-align: right;\n",
       "    }\n",
       "</style>\n",
       "<table border=\"1\" class=\"dataframe\">\n",
       "  <thead>\n",
       "    <tr style=\"text-align: right;\">\n",
       "      <th></th>\n",
       "      <th>review_date</th>\n",
       "      <th>star_rating</th>\n",
       "    </tr>\n",
       "  </thead>\n",
       "  <tbody>\n",
       "    <tr>\n",
       "      <th>0</th>\n",
       "      <td>2000.0</td>\n",
       "      <td>1</td>\n",
       "    </tr>\n",
       "    <tr>\n",
       "      <th>1</th>\n",
       "      <td>2001.0</td>\n",
       "      <td>1</td>\n",
       "    </tr>\n",
       "    <tr>\n",
       "      <th>2</th>\n",
       "      <td>2002.0</td>\n",
       "      <td>5</td>\n",
       "    </tr>\n",
       "    <tr>\n",
       "      <th>3</th>\n",
       "      <td>2003.0</td>\n",
       "      <td>4</td>\n",
       "    </tr>\n",
       "    <tr>\n",
       "      <th>4</th>\n",
       "      <td>2004.0</td>\n",
       "      <td>6</td>\n",
       "    </tr>\n",
       "    <tr>\n",
       "      <th>5</th>\n",
       "      <td>2005.0</td>\n",
       "      <td>11</td>\n",
       "    </tr>\n",
       "    <tr>\n",
       "      <th>6</th>\n",
       "      <td>2006.0</td>\n",
       "      <td>185</td>\n",
       "    </tr>\n",
       "    <tr>\n",
       "      <th>7</th>\n",
       "      <td>2007.0</td>\n",
       "      <td>2597</td>\n",
       "    </tr>\n",
       "    <tr>\n",
       "      <th>8</th>\n",
       "      <td>2008.0</td>\n",
       "      <td>3079</td>\n",
       "    </tr>\n",
       "    <tr>\n",
       "      <th>9</th>\n",
       "      <td>2009.0</td>\n",
       "      <td>3262</td>\n",
       "    </tr>\n",
       "    <tr>\n",
       "      <th>10</th>\n",
       "      <td>2010.0</td>\n",
       "      <td>6091</td>\n",
       "    </tr>\n",
       "    <tr>\n",
       "      <th>11</th>\n",
       "      <td>2011.0</td>\n",
       "      <td>20890</td>\n",
       "    </tr>\n",
       "    <tr>\n",
       "      <th>12</th>\n",
       "      <td>2012.0</td>\n",
       "      <td>142466</td>\n",
       "    </tr>\n",
       "    <tr>\n",
       "      <th>13</th>\n",
       "      <td>2013.0</td>\n",
       "      <td>721748</td>\n",
       "    </tr>\n",
       "    <tr>\n",
       "      <th>14</th>\n",
       "      <td>2014.0</td>\n",
       "      <td>1543049</td>\n",
       "    </tr>\n",
       "    <tr>\n",
       "      <th>15</th>\n",
       "      <td>2015.0</td>\n",
       "      <td>1554812</td>\n",
       "    </tr>\n",
       "  </tbody>\n",
       "</table>\n",
       "</div>"
      ],
      "text/plain": [
       "    review_date  star_rating\n",
       "0        2000.0            1\n",
       "1        2001.0            1\n",
       "2        2002.0            5\n",
       "3        2003.0            4\n",
       "4        2004.0            6\n",
       "5        2005.0           11\n",
       "6        2006.0          185\n",
       "7        2007.0         2597\n",
       "8        2008.0         3079\n",
       "9        2009.0         3262\n",
       "10       2010.0         6091\n",
       "11       2011.0        20890\n",
       "12       2012.0       142466\n",
       "13       2013.0       721748\n",
       "14       2014.0      1543049\n",
       "15       2015.0      1554812"
      ]
     },
     "execution_count": 18,
     "metadata": {},
     "output_type": "execute_result"
    },
    {
     "data": {
      "text/plain": [
       "<AxesSubplot:xlabel='review_date', ylabel='star_rating'>"
      ]
     },
     "execution_count": 18,
     "metadata": {},
     "output_type": "execute_result"
    },
    {
     "data": {
      "image/png": "[encoded data removed]",
      "text/plain": [
       "<Figure size 720x360 with 1 Axes>"
      ]
     },
     "metadata": {
      "needs_background": "light"
     },
     "output_type": "display_data"
    }
   ],
   "source": [
    "df.groupby(df.review_date.dt.year).star_rating.count().reset_index()\n",
    "fig = plt.gcf()\n",
    "fig.set_size_inches(10, 5)\n",
    "sns.barplot(x='review_date', y='star_rating', data=_, palette='GnBu_d')"
   ]
  },
  {
   "cell_type": "code",
   "execution_count": null,
   "metadata": {},
   "outputs": [],
   "source": [
    "# Answer: The years with the least amount of data are 2000 and 2001, with only 1 review. The year with the highest number of reviews is 2015."
   ]
  },
  {
   "cell_type": "markdown",
   "metadata": {},
   "source": [
    "### Cleaning data"
   ]
  },
  {
   "cell_type": "markdown",
   "metadata": {},
   "source": [
    "**Question**: How heterogeneous are the number of reviews per customer and reviews per video? Use quantiles to find out.\n",
    "\n",
    "**Hint**: Use `<dataframe>['columns_name'].value_counts()` for the customers and products dataframe, and use `<dataframe>.quantile(<list>)` to find the relationship."
   ]
  },
  {
   "cell_type": "code",
   "execution_count": 19,
   "metadata": {},
   "outputs": [
    {
     "name": "stdout",
     "output_type": "stream",
     "text": [
      "customers\n",
      " 0.000       1.0\n",
      "0.010       1.0\n",
      "0.020       1.0\n",
      "0.030       1.0\n",
      "0.040       1.0\n",
      "0.050       1.0\n",
      "0.100       1.0\n",
      "0.250       1.0\n",
      "0.500       1.0\n",
      "0.750       2.0\n",
      "0.900       4.0\n",
      "0.950       5.0\n",
      "0.960       6.0\n",
      "0.970       7.0\n",
      "0.980       9.0\n",
      "0.990      13.0\n",
      "0.995      18.0\n",
      "0.999      37.0\n",
      "1.000    2704.0\n",
      "Name: customer_id, dtype: float64\n",
      "products\n",
      " 0.000        1.000\n",
      "0.010        1.000\n",
      "0.020        1.000\n",
      "0.030        1.000\n",
      "0.040        1.000\n",
      "0.050        1.000\n",
      "0.100        1.000\n",
      "0.250        1.000\n",
      "0.500        3.000\n",
      "0.750        9.000\n",
      "0.900       31.000\n",
      "0.950       73.000\n",
      "0.960       95.000\n",
      "0.970      130.000\n",
      "0.980      199.000\n",
      "0.990      386.670\n",
      "0.995      699.000\n",
      "0.999     1993.901\n",
      "1.000    32790.000\n",
      "Name: product_id, dtype: float64\n"
     ]
    }
   ],
   "source": [
    "customers = df['customer_id'].value_counts()\n",
    "products = df['product_id'].value_counts()\n",
    "\n",
    "quantiles = [0, 0.01, 0.02, 0.03, 0.04, 0.05, 0.1, 0.25, 0.5, \n",
    "             0.75, 0.9, 0.95, 0.96, 0.97, 0.98, 0.99, 0.995, \n",
    "             0.999, 1]\n",
    "print('customers\\n', customers.quantile(quantiles))\n",
    "print('products\\n', products.quantile(quantiles))"
   ]
  },
  {
   "cell_type": "code",
   "execution_count": null,
   "metadata": {},
   "outputs": [],
   "source": [
    "# Answer: Only about 5% of customers have rated 5 or more videos, and only 25% of videos have been rated by 9+ customers."
   ]
  },
  {
   "cell_type": "markdown",
   "metadata": {},
   "source": [
    "Filter out this long tail. Select the customers that have rated 18 or more videos and the products that have more than 95 reviews. "
   ]
  },
  {
   "cell_type": "code",
   "execution_count": 20,
   "metadata": {},
   "outputs": [],
   "source": [
    "customers1 = customers[customers >= 18]\n",
    "products1 = products[products >= 95]\n",
    "\n",
    "reduced_df = (\n",
    "    df_reduced.merge(pd.DataFrame({'customer_id': customers1.index}))\n",
    "              .merge(pd.DataFrame({'product_id': products1.index}))\n",
    ")"
   ]
  },
  {
   "cell_type": "markdown",
   "metadata": {},
   "source": [
    "**Question:** What is the shape of `customers1`, `products1`, and the new dataframe reduced_df?  \n",
    "\n",
    "**Note**: Use f-strings for this:\n",
    "```\n",
    "x= 3\n",
    "print(f'X = {x}')\n",
    "```"
   ]
  },
  {
   "cell_type": "code",
   "execution_count": 21,
   "metadata": {},
   "outputs": [
    {
     "name": "stdout",
     "output_type": "stream",
     "text": [
      "Number of users is 10538 and number of items is 6683.\n",
      "Length of reduced df is 173500.\n"
     ]
    }
   ],
   "source": [
    "print(f'Number of users is {customers1.shape[0]} and number of items is {products1.shape[0]}.')\n",
    "print(f'Length of reduced df is {reduced_df.shape[0]}.')"
   ]
  },
  {
   "cell_type": "markdown",
   "metadata": {},
   "source": [
    "Print the first 5 columns of the dataframe."
   ]
  },
  {
   "cell_type": "code",
   "execution_count": 22,
   "metadata": {},
   "outputs": [
    {
     "data": {
      "text/html": [
       "<div>\n",
       "<style scoped>\n",
       "    .dataframe tbody tr th:only-of-type {\n",
       "        vertical-align: middle;\n",
       "    }\n",
       "\n",
       "    .dataframe tbody tr th {\n",
       "        vertical-align: top;\n",
       "    }\n",
       "\n",
       "    .dataframe thead th {\n",
       "        text-align: right;\n",
       "    }\n",
       "</style>\n",
       "<table border=\"1\" class=\"dataframe\">\n",
       "  <thead>\n",
       "    <tr style=\"text-align: right;\">\n",
       "      <th></th>\n",
       "      <th>customer_id</th>\n",
       "      <th>product_id</th>\n",
       "      <th>star_rating</th>\n",
       "      <th>product_title</th>\n",
       "    </tr>\n",
       "  </thead>\n",
       "  <tbody>\n",
       "    <tr>\n",
       "      <th>0</th>\n",
       "      <td>11763902</td>\n",
       "      <td>B00PSLQYWE</td>\n",
       "      <td>4</td>\n",
       "      <td>Downton Abbey Season 5</td>\n",
       "    </tr>\n",
       "    <tr>\n",
       "      <th>1</th>\n",
       "      <td>1411480</td>\n",
       "      <td>B00PSLQYWE</td>\n",
       "      <td>5</td>\n",
       "      <td>Downton Abbey Season 5</td>\n",
       "    </tr>\n",
       "    <tr>\n",
       "      <th>2</th>\n",
       "      <td>35303629</td>\n",
       "      <td>B00PSLQYWE</td>\n",
       "      <td>5</td>\n",
       "      <td>Downton Abbey Season 5</td>\n",
       "    </tr>\n",
       "    <tr>\n",
       "      <th>3</th>\n",
       "      <td>21285980</td>\n",
       "      <td>B00PSLQYWE</td>\n",
       "      <td>5</td>\n",
       "      <td>Downton Abbey Season 5</td>\n",
       "    </tr>\n",
       "    <tr>\n",
       "      <th>4</th>\n",
       "      <td>29260449</td>\n",
       "      <td>B00PSLQYWE</td>\n",
       "      <td>5</td>\n",
       "      <td>Downton Abbey Season 5</td>\n",
       "    </tr>\n",
       "  </tbody>\n",
       "</table>\n",
       "</div>"
      ],
      "text/plain": [
       "   customer_id  product_id  star_rating           product_title\n",
       "0     11763902  B00PSLQYWE            4  Downton Abbey Season 5\n",
       "1      1411480  B00PSLQYWE            5  Downton Abbey Season 5\n",
       "2     35303629  B00PSLQYWE            5  Downton Abbey Season 5\n",
       "3     21285980  B00PSLQYWE            5  Downton Abbey Season 5\n",
       "4     29260449  B00PSLQYWE            5  Downton Abbey Season 5"
      ]
     },
     "execution_count": 22,
     "metadata": {},
     "output_type": "execute_result"
    }
   ],
   "source": [
    "reduced_df.head()"
   ]
  },
  {
   "cell_type": "markdown",
   "metadata": {},
   "source": [
    "**Question:** Does `reduced_df` maintain the same ratio of ratings?"
   ]
  },
  {
   "cell_type": "code",
   "execution_count": 23,
   "metadata": {},
   "outputs": [
    {
     "data": {
      "text/html": [
       "<div>\n",
       "<style scoped>\n",
       "    .dataframe tbody tr th:only-of-type {\n",
       "        vertical-align: middle;\n",
       "    }\n",
       "\n",
       "    .dataframe tbody tr th {\n",
       "        vertical-align: top;\n",
       "    }\n",
       "\n",
       "    .dataframe thead th {\n",
       "        text-align: right;\n",
       "    }\n",
       "</style>\n",
       "<table border=\"1\" class=\"dataframe\">\n",
       "  <thead>\n",
       "    <tr style=\"text-align: right;\">\n",
       "      <th></th>\n",
       "      <th>index</th>\n",
       "      <th>star_rating</th>\n",
       "    </tr>\n",
       "  </thead>\n",
       "  <tbody>\n",
       "    <tr>\n",
       "      <th>0</th>\n",
       "      <td>5</td>\n",
       "      <td>86200</td>\n",
       "    </tr>\n",
       "    <tr>\n",
       "      <th>1</th>\n",
       "      <td>4</td>\n",
       "      <td>42668</td>\n",
       "    </tr>\n",
       "    <tr>\n",
       "      <th>2</th>\n",
       "      <td>3</td>\n",
       "      <td>24470</td>\n",
       "    </tr>\n",
       "    <tr>\n",
       "      <th>3</th>\n",
       "      <td>2</td>\n",
       "      <td>10803</td>\n",
       "    </tr>\n",
       "    <tr>\n",
       "      <th>4</th>\n",
       "      <td>1</td>\n",
       "      <td>9359</td>\n",
       "    </tr>\n",
       "  </tbody>\n",
       "</table>\n",
       "</div>"
      ],
      "text/plain": [
       "   index  star_rating\n",
       "0      5        86200\n",
       "1      4        42668\n",
       "2      3        24470\n",
       "3      2        10803\n",
       "4      1         9359"
      ]
     },
     "execution_count": 23,
     "metadata": {},
     "output_type": "execute_result"
    },
    {
     "data": {
      "text/plain": [
       "<AxesSubplot:xlabel='index', ylabel='star_rating'>"
      ]
     },
     "execution_count": 23,
     "metadata": {},
     "output_type": "execute_result"
    },
    {
     "data": {
      "image/png": "[encoded data removed]",
      "text/plain": [
       "<Figure size 432x288 with 1 Axes>"
      ]
     },
     "metadata": {
      "needs_background": "light"
     },
     "output_type": "display_data"
    }
   ],
   "source": [
    "reduced_df['star_rating'].value_counts().reset_index()\n",
    "sns.barplot(x='index', y='star_rating', data=_, palette='GnBu_d')"
   ]
  },
  {
   "cell_type": "code",
   "execution_count": null,
   "metadata": {},
   "outputs": [],
   "source": [
    "# Answer: The number of reviews with a 1-star rating decreased in proportion to 2-star ratings. That was not the case with the original data."
   ]
  },
  {
   "cell_type": "markdown",
   "metadata": {},
   "source": [
    "Now, recreate the customer and product distributions of count per customer and product.\n",
    "\n",
    "**Hint**: Use the `value_counts()` function on the `customer_id` and `product_id` columns."
   ]
  },
  {
   "cell_type": "code",
   "execution_count": 24,
   "metadata": {},
   "outputs": [
    {
     "data": {
      "text/plain": [
       "Text(0.5, 0.98, 'Distribution of counts per customer and product')"
      ]
     },
     "execution_count": 24,
     "metadata": {},
     "output_type": "execute_result"
    },
    {
     "data": {
      "text/plain": [
       "<AxesSubplot:xlabel='customer_id'>"
      ]
     },
     "execution_count": 24,
     "metadata": {},
     "output_type": "execute_result"
    },
    {
     "data": {
      "text/plain": [
       "<AxesSubplot:xlabel='product_id'>"
      ]
     },
     "execution_count": 24,
     "metadata": {},
     "output_type": "execute_result"
    },
    {
     "data": {
      "image/png": "[encoded data removed]",
      "text/plain": [
       "<Figure size 1440x360 with 2 Axes>"
      ]
     },
     "metadata": {
      "needs_background": "light"
     },
     "output_type": "display_data"
    }
   ],
   "source": [
    "customers = reduced_df['customer_id'].value_counts()\n",
    "products = reduced_df['product_id'].value_counts()\n",
    "\n",
    "fig, axs = plt.subplots(1, 2, figsize=(20, 5))\n",
    "fig.suptitle('Distribution of counts per customer and product')\n",
    "sns.distplot(customers, kde=False, ax=axs[0], color='teal')\n",
    "sns.distplot(products, kde=False, ax=axs[1])"
   ]
  },
  {
   "cell_type": "markdown",
   "metadata": {},
   "source": [
    "Next, number each user and item, giving them their own sequential index. This will allow you to hold the information in a sparse format where the sequential indices indicate the row and column in the ratings matrix.\n",
    "\n",
    "To create the `customer_index` and `product_index`, create a new dataframe with `customer_id` as the index value and a sequential counter/values for the user and item number. Once you are finished creating both indexes, use the Pandas `merge` function to merge `customer_index` with `product_index`.\n",
    "\n",
    "**Hint**: Use the `shape` function to generate the total number of customers and products. Use `np.arange` to generate a list of numbers from 0 to the number of customers and products."
   ]
  },
  {
   "cell_type": "code",
   "execution_count": 25,
   "metadata": {},
   "outputs": [
    {
     "data": {
      "text/html": [
       "<div>\n",
       "<style scoped>\n",
       "    .dataframe tbody tr th:only-of-type {\n",
       "        vertical-align: middle;\n",
       "    }\n",
       "\n",
       "    .dataframe tbody tr th {\n",
       "        vertical-align: top;\n",
       "    }\n",
       "\n",
       "    .dataframe thead th {\n",
       "        text-align: right;\n",
       "    }\n",
       "</style>\n",
       "<table border=\"1\" class=\"dataframe\">\n",
       "  <thead>\n",
       "    <tr style=\"text-align: right;\">\n",
       "      <th></th>\n",
       "      <th>customer_id</th>\n",
       "      <th>product_id</th>\n",
       "      <th>star_rating</th>\n",
       "      <th>product_title</th>\n",
       "      <th>user</th>\n",
       "      <th>item</th>\n",
       "    </tr>\n",
       "  </thead>\n",
       "  <tbody>\n",
       "    <tr>\n",
       "      <th>0</th>\n",
       "      <td>11763902</td>\n",
       "      <td>B00PSLQYWE</td>\n",
       "      <td>4</td>\n",
       "      <td>Downton Abbey Season 5</td>\n",
       "      <td>3081</td>\n",
       "      <td>102</td>\n",
       "    </tr>\n",
       "    <tr>\n",
       "      <th>1</th>\n",
       "      <td>1411480</td>\n",
       "      <td>B00PSLQYWE</td>\n",
       "      <td>5</td>\n",
       "      <td>Downton Abbey Season 5</td>\n",
       "      <td>128</td>\n",
       "      <td>102</td>\n",
       "    </tr>\n",
       "    <tr>\n",
       "      <th>2</th>\n",
       "      <td>35303629</td>\n",
       "      <td>B00PSLQYWE</td>\n",
       "      <td>5</td>\n",
       "      <td>Downton Abbey Season 5</td>\n",
       "      <td>4706</td>\n",
       "      <td>102</td>\n",
       "    </tr>\n",
       "    <tr>\n",
       "      <th>3</th>\n",
       "      <td>21285980</td>\n",
       "      <td>B00PSLQYWE</td>\n",
       "      <td>5</td>\n",
       "      <td>Downton Abbey Season 5</td>\n",
       "      <td>452</td>\n",
       "      <td>102</td>\n",
       "    </tr>\n",
       "    <tr>\n",
       "      <th>4</th>\n",
       "      <td>29260449</td>\n",
       "      <td>B00PSLQYWE</td>\n",
       "      <td>5</td>\n",
       "      <td>Downton Abbey Season 5</td>\n",
       "      <td>129</td>\n",
       "      <td>102</td>\n",
       "    </tr>\n",
       "  </tbody>\n",
       "</table>\n",
       "</div>"
      ],
      "text/plain": [
       "   customer_id  product_id  star_rating           product_title  user  item\n",
       "0     11763902  B00PSLQYWE            4  Downton Abbey Season 5  3081   102\n",
       "1      1411480  B00PSLQYWE            5  Downton Abbey Season 5   128   102\n",
       "2     35303629  B00PSLQYWE            5  Downton Abbey Season 5  4706   102\n",
       "3     21285980  B00PSLQYWE            5  Downton Abbey Season 5   452   102\n",
       "4     29260449  B00PSLQYWE            5  Downton Abbey Season 5   129   102"
      ]
     },
     "execution_count": 25,
     "metadata": {},
     "output_type": "execute_result"
    }
   ],
   "source": [
    "customer_index = pd.DataFrame({'customer_id': customers.index, \n",
    "                               'user': np.arange(customers.shape[0])})\n",
    "product_index = pd.DataFrame({'product_id': products.index, \n",
    "                              'item': np.arange(products.shape[0])})\n",
    "\n",
    "reduced_df = reduced_df.merge(customer_index).merge(product_index)\n",
    "reduced_df.head()"
   ]
  },
  {
   "cell_type": "markdown",
   "metadata": {},
   "source": [
    "Sample answer:\n",
    "<div class=\"output_subarea\"><div>\n",
    "\n",
    "<table class=\"dataframe\" border=\"1\">\n",
    "  <thead>\n",
    "    <tr style=\"text-align: right\">\n",
    "      <th></th>\n",
    "      <th>customer_id</th>\n",
    "      <th>product_id</th>\n",
    "      <th>star_rating</th>\n",
    "      <th>product_title</th>\n",
    "      <th>user</th>\n",
    "      <th>item</th>\n",
    "    </tr>\n",
    "  </thead>\n",
    "  <tbody>\n",
    "    <tr>\n",
    "      <th>0</th>\n",
    "      <td>11763902</td>\n",
    "      <td>B00PSLQYWE</td>\n",
    "      <td>4</td>\n",
    "      <td>Downton Abbey Season 5</td>\n",
    "      <td>3065</td>\n",
    "      <td>103</td>\n",
    "    </tr>\n",
    "    <tr>\n",
    "      <th>1</th>\n",
    "      <td>1411480</td>\n",
    "      <td>B00PSLQYWE</td>\n",
    "      <td>5</td>\n",
    "      <td>Downton Abbey Season 5</td>\n",
    "      <td>130</td>\n",
    "      <td>103</td>\n",
    "    </tr>\n",
    "    <tr>\n",
    "      <th>2</th>\n",
    "      <td>35303629</td>\n",
    "      <td>B00PSLQYWE</td>\n",
    "      <td>5</td>\n",
    "      <td>Downton Abbey Season 5</td>\n",
    "      <td>4683</td>\n",
    "      <td>103</td>\n",
    "    </tr>\n",
    "    <tr>\n",
    "      <th>3</th>\n",
    "      <td>21285980</td>\n",
    "      <td>B00PSLQYWE</td>\n",
    "      <td>5</td>\n",
    "      <td>Downton Abbey Season 5</td>\n",
    "      <td>449</td>\n",
    "      <td>103</td>\n",
    "    </tr>\n",
    "    <tr>\n",
    "      <th>4</th>\n",
    "      <td>29260449</td>\n",
    "      <td>B00PSLQYWE</td>\n",
    "      <td>5</td>\n",
    "      <td>Downton Abbey Season 5</td>\n",
    "      <td>131</td>\n",
    "      <td>103</td>\n",
    "    </tr>\n",
    "  </tbody>\n",
    "</table>\n",
    "</div></div>"
   ]
  },
  {
   "cell_type": "markdown",
   "metadata": {},
   "source": [
    "## <span style=\"color:red\"> End of Lab 2 </span>\n",
    "\n",
    "Save the project file to your local computer. Follow these steps:\n",
    "\n",
    "1. At the top of the page, click the **File** menu. \n",
    "\n",
    "1. Select **Download as**, and click **Notebook(.ipynb)**.  \n",
    "\n",
    "This downloads the current notebook to the default download folder on your computer."
   ]
  },
  {
   "cell_type": "markdown",
   "metadata": {},
   "source": [
    "# Step 3: Model training and evaluation\n",
    "\n",
    "There are some preliminary steps that you must include when converting the dataset from a dataframe to a format that a machine learning algorithm can use. For Amazon SageMaker, here are the steps you need to take:\n",
    "\n",
    "1. Split the data into `train_data` and `test_data`.    \n",
    "2. Convert the dataset to an appropriate file format that the Amazon SageMaker training job can use. This can be either a CSV file or record protobuf. For more information, see [Common Data Formats for Training](https://docs.aws.amazon.com/sagemaker/latest/dg/cdf-training.html). For this problem, the data will be sparse, so you can use the `scipy.sparse.lilmatrix` function and then convert the function to the `RecordIO protobuf` format using `sagemaker.amazon.common.write_spmatrix_to_sparse_tensor`.    \n",
    "3. Upload the data to your Amazon S3 bucket. If you have not created one before, see [Create a Bucket](https://docs.aws.amazon.com/AmazonS3/latest/gsg/CreatingABucket.html).    \n",
    "\n",
    "Use the following cells to complete these steps. Insert and delete cells where needed.\n",
    "\n",
    "#### <span style=\"color: blue;\">Project presentation: Take note of the key decisions you've made in this phase in your project presentations.</span>"
   ]
  },
  {
   "cell_type": "markdown",
   "metadata": {},
   "source": [
    "### Prepare the data\n",
    "\n",
    "You are at a point where you can start preparing the dataset as input for your model. Every model has different input needs. Some of the algorithms implemented in Amazon SageMaker require the data to be in the recordIO-wrapped protobuf form. You will take care of that in the following cells.\n",
    "\n",
    "First, split the dataset into training and test sets. This will allow you to estimate the model's accuracy on videos that customers rated but that weren't included in the training.\n",
    "\n",
    "Start with creation of the `test_df` dataframe. Create the dataframe by grouping the dataframe on `customer_id` and using the `last` function, similar to `pd.groupby('  ').last()`."
   ]
  },
  {
   "cell_type": "code",
   "execution_count": null,
   "metadata": {},
   "outputs": [],
   "source": [
    "test_df = reduced_df.groupby(<CODE>).last().reset_index() # Enter your code here"
   ]
  },
  {
   "cell_type": "markdown",
   "metadata": {},
   "source": [
    "To create the training data, remove the values present in `test_df` from the `reduced_df` dataframe.\n",
    "\n",
    "**Hint**: Merge the `reduced_df` dataframe with the `test_df` dataset with `customer_id` and `product_id` columns as an outer join."
   ]
  },
  {
   "cell_type": "code",
   "execution_count": null,
   "metadata": {},
   "outputs": [],
   "source": [
    "# Enter your code here\n",
    "train_df = reduced_df.merge(<CODE>, \n",
    "                            on=['customer_id', 'product_id'], \n",
    "                            how='outer', \n",
    "                            indicator=True, \n",
    "                            indicator=True)\n",
    "train_df = train_df[(train_df['_merge'] == 'left_only')].reset_index()"
   ]
  },
  {
   "cell_type": "code",
   "execution_count": null,
   "metadata": {},
   "outputs": [],
   "source": [
    "test_df.head()"
   ]
  },
  {
   "cell_type": "markdown",
   "metadata": {},
   "source": [
    "Now you can look at some basic characteristics of the data that will later help you convert the features to an appropriate format for training your model.\n",
    "\n",
    "Create two variables `nb_rating_test` and `nb_ratings_train` for the length of the test and training datasets."
   ]
  },
  {
   "cell_type": "code",
   "execution_count": null,
   "metadata": {},
   "outputs": [],
   "source": [
    "nb_ratings_test =  # Enter your code here\n",
    "nb_ratings_train = # Enter your code here\n",
    "print(f\" Training Count: {nb_ratings_train}\")\n",
    "print(f\" Test Count: {nb_ratings_test}\")"
   ]
  },
  {
   "cell_type": "markdown",
   "metadata": {},
   "source": [
    "### Data conversion\n",
    "\n",
    "Now, you can convert your Pandas dataframes into a sparse matrix. This process is the same for both train and test. The Amazon SageMaker implementation of factorization machines takes recordIO-wrapped protobuf, where the data you have today is a Pandas dataframe on disk. Therefore, you are going to convert the data to a sparse matrix to express the relationships between each user and each movie."
   ]
  },
  {
   "cell_type": "code",
   "execution_count": null,
   "metadata": {
    "scrolled": true
   },
   "outputs": [],
   "source": [
    "from scipy.sparse import lil_matrix\n",
    "\n",
    "def loadDataset(df, lines, columns, regressor=True):\n",
    "    \"\"\"\n",
    "    Convert the pandas dataframe into a sparse matrix\n",
    "    \n",
    "    Args:\n",
    "        df: DataFrame\n",
    "        lines: number of rows of the final sparse matrix\n",
    "        columns: number of columns of final sparse matrix\n",
    "        regressor: Boolean value to check if using regression\n",
    "                  or classification\n",
    "    Returns:\n",
    "        X: Feature vector\n",
    "        Y: Label vector\n",
    "    \"\"\"\n",
    "    # Features are one-hot encoded in a sparse matrix\n",
    "    \n",
    "    # Use scipy.sparse.lil_matrix to create the feature vector X of type float32\n",
    "    # The size of the matrix is the length of the dataframe and \n",
    "    # number of lines plus number of columns variable \n",
    "    X = lil_matrix((<CODE>, lines + columns)).astype('float32') # Enter your code here\n",
    "    \n",
    "    # Labels are stored in a vector. Instantiate an empty label vector Y.\n",
    "    Y = # Enter your code here\n",
    "    \n",
    "    line = 0\n",
    "    \n",
    "    # For each row in the dataframe, use 1 for the item and product number\n",
    "    for index, row in df.iterrows():\n",
    "        X[line,row['user']] = 1\n",
    "        X[line, lines + (row['item'])] = 1\n",
    "        line += 1\n",
    "\n",
    "        if regressor:\n",
    "            # If using regression, append the star_rating from the row variable\n",
    "            Y.append(<CODE>) # Enter your code here\n",
    "        else:\n",
    "            # Use 1 for star_rating 5 else use 0 from the row variable\n",
    "            if int(row['star_rating']) >= 5:\n",
    "                Y.append(<CODE>) # Enter your code here\n",
    "            else:\n",
    "                Y.append(<CODE>) # Enter your code here\n",
    "            \n",
    "    # Convert the list into a NumPy array of type float32     \n",
    "    Y = np.array(<CODE>).astype('float32') # Enter your code here\n",
    "    \n",
    "    return X, Y"
   ]
  },
  {
   "cell_type": "markdown",
   "metadata": {},
   "source": [
    "Use the `loadDataset` function to create the training and test sets."
   ]
  },
  {
   "cell_type": "code",
   "execution_count": null,
   "metadata": {},
   "outputs": [],
   "source": [
    "print(customers.shape[0], \n",
    "      products.shape[0],\n",
    "      customers.shape[0] + products.shape[0])\n",
    "\n",
    "# Use loadDataset function with train_df, customers.shape[0] and products.shape[0]\n",
    "X_train, Y_train = loadDataset(<CODE>)  # Enter your code here\n",
    "\n",
    "# Use loadDataset function with test_df, customers.shape[0] and products.shape[0]\n",
    "X_test, Y_test = loadDataset(<CODE>) # Enter your code here"
   ]
  },
  {
   "cell_type": "markdown",
   "metadata": {},
   "source": [
    "Now that your data is in a sparse format, save it as a protobuf format and upload it to Amazon S3. This step might look intimidating, but most of the conversion effort is handled by the Amazon SageMaker Python SDK, imported as SageMaker below."
   ]
  },
  {
   "cell_type": "code",
   "execution_count": null,
   "metadata": {},
   "outputs": [],
   "source": [
    "import io \n",
    "import sagemaker.amazon.common as smac\n",
    "\n",
    "def writeDatasetToProtobuf(X, bucket, prefix, key, d_type, Y=None):\n",
    "    buf = io.BytesIO()\n",
    "    if d_type == \"sparse\":\n",
    "        smac.write_spmatrix_to_sparse_tensor(buf, X, labels=Y)\n",
    "    else:\n",
    "        smac.write_numpy_to_dense_tensor(buf, X, labels=Y)\n",
    "        \n",
    "    buf.seek(0)\n",
    "    obj = '{}/{}'.format(prefix, key)\n",
    "    boto3.resource('s3').Bucket(bucket).Object(obj).upload_fileobj(buf)\n",
    "    return 's3://{}/{}'.format(bucket,obj)\n",
    "\n",
    "\n",
    "fm_train_data_path = writeDatasetToProtobuf(X_train, bucket, prefix, 'train', \"sparse\", Y_train)    \n",
    "fm_test_data_path  = writeDatasetToProtobuf(X_test, bucket, prefix, 'test', \"sparse\", Y_test)  \n",
    "  \n",
    "print(\"Training data S3 path: \", fm_train_data_path)\n",
    "print(\"Test data S3 path: \", fm_test_data_path)"
   ]
  },
  {
   "cell_type": "markdown",
   "metadata": {},
   "source": [
    "You are finally finished with data preparation. Hooray! As you can see, it takes a lot of time and effort to clean and prepare the data for modeling. This is true for every single data science project, and this step has a high impact on the outcome. Make sure you spend enough time understanding and preparing your data for training in all future machine learning dventures!"
   ]
  },
  {
   "cell_type": "markdown",
   "metadata": {},
   "source": [
    "## Training the model\n",
    "\n",
    "Now it's time to train the model. You will use an Amazon SageMaker training job for that. Amazon SageMaker training jobs are an easy way to create models, as you don't really have to write all the code for training. That is already handled for you in a nice container format.\n",
    "\n",
    "The general workflow for creating training jobs from the notebook is to instantiate the predictor, pass some hyperparameters, and then pass the data in the correct format. This is what happens in the following cell.\n",
    "\n",
    "For more more information about FM estimator, see [FactorizationMachines](https://sagemaker.readthedocs.io/en/stable/factorization_machines.html).\n",
    "\n",
    "For more information about hyperparameters, see [Factorization Machines Hyperparameters](https://docs.aws.amazon.com/sagemaker/latest/dg/fact-machines-hyperparameters.html).\n",
    "\n",
    "**Hint**: Example:\n",
    "\n",
    "```\n",
    "sess = sagemaker.Session()\n",
    "\n",
    "pca = sagemaker.estimator.Estimator(containers[boto3.Session().region_name],\n",
    "                                    role,\n",
    "                                    instance_count=1,\n",
    "                                    instance_type='ml.m4.xlarge',\n",
    "                                    output_path=output_location,\n",
    "                                    sagemaker_session=sess)\n",
    "                                    \n",
    "pca.set_hyperparameters(featuer_dim=50000,\n",
    "                        num_components=10,\n",
    "                        subtract_mean=True,\n",
    "                        algorithm_mode='randomized',\n",
    "                        mini_batch_size=200)\n",
    "                        \n",
    "pca.fit({'train': s3_train_data})\n",
    "```"
   ]
  },
  {
   "cell_type": "code",
   "execution_count": null,
   "metadata": {},
   "outputs": [],
   "source": [
    "from sagemaker import get_execution_role\n",
    "from sagemaker import image_uris\n",
    "\n",
    "output_prefix = 's3://' + bucket + '/sagemaker-fm/model'\n",
    "instance_type= # Enter your code here\n",
    "batch_size = # Enter your code here\n",
    "\n",
    "fm = sagemaker.estimator.Estimator(\n",
    "    image_uris.retrieve(\"factorization-machines\", boto3.Session().region_name),\n",
    "    role, \n",
    "    instance_count=<CODE>, # Enter your code here\n",
    "    instance_type=instance_type,\n",
    "    output_path=output_prefix,\n",
    "    sagemaker_session=sagemaker.Session()\n",
    ")\n",
    "\n",
    "# Use hyperparameter. For feature_dim use the column length of X_train \n",
    "fm.set_hyperparameters(\n",
    "                        feature_dim=<CODE>, # Enter your code here\n",
    "                        predictor_type='regressor',\n",
    "                        mini_batch_size=batch_size,\n",
    "                        num_factors=64,\n",
    "                        epochs=25,\n",
    "                        clip_gradient=5.0,\n",
    "                        rescale_grad=1.0/batch_size\n",
    ")\n",
    "\n",
    "fm.fit({'train': ,# Enter your code here, \n",
    "        'test': # Enter your code here\n",
    "       })"
   ]
  },
  {
   "cell_type": "markdown",
   "metadata": {},
   "source": [
    "**Question:** What does changing the `batch_size` and `epochs` do to the final metric?  "
   ]
  },
  {
   "cell_type": "code",
   "execution_count": null,
   "metadata": {},
   "outputs": [],
   "source": [
    "# Enter your Answer here"
   ]
  },
  {
   "cell_type": "markdown",
   "metadata": {},
   "source": [
    "**Question:** Check the output of the model. What is the meaning of the metrics used? Is there a difference between the training and testing sets? If yes, what is the meaning of that?  "
   ]
  },
  {
   "cell_type": "code",
   "execution_count": null,
   "metadata": {},
   "outputs": [],
   "source": [
    "# Enter your Answer here"
   ]
  },
  {
   "cell_type": "markdown",
   "metadata": {},
   "source": [
    "### Evaluate\n",
    "\n",
    "Congratulations! You have successfully launched an Amazon SageMaker training job. Now what? Well, you need a way to verify that your model is actually predicting coherent values. How do you do this?\n",
    "\n",
    "Start by calculating a naive baseline to approximate how well your model is doing. The simplest estimate would be to assume every user item rating is just the average rating over all ratings. This is basically saying that you have a model that only learned to output the mean value of all reviews.\n",
    "\n",
    "**Note:** You could do better by using each individual video's average; however, in this case, it doesn't really matter because the same conclusions would hold."
   ]
  },
  {
   "cell_type": "markdown",
   "metadata": {},
   "source": [
    "Calculate the mean of `star_rating` to get the `naive_guess`. Then, calculate the naive MSE by squaring the naive guess from the test `star_rating` and getting an average.\n",
    "\n",
    "$average(test(star\\_rating) - naive\\_guess)^2)$"
   ]
  },
  {
   "cell_type": "code",
   "execution_count": null,
   "metadata": {
    "scrolled": true
   },
   "outputs": [],
   "source": [
    "naive_guess = np.mean(<CODE>) # Enter your code here\n",
    "print(f'Naive MSE:', np.mean((<CODE>)**2)) # Enter your code here )"
   ]
  },
  {
   "cell_type": "markdown",
   "metadata": {},
   "source": [
    "Now, calculate predictions for your test dataset. To this end, you'll need to _deploy_ the model you just trained.\n",
    "\n",
    "**Note:** This will align closely to your CloudWatch output above but may differ slightly due to skipping partial mini-batches in the `eval_net` function.\n",
    "\n",
    "Use `<estimator_name>.deploy` with `initial_instance_count=1, instance_type=ml.m4.xlarge`."
   ]
  },
  {
   "cell_type": "code",
   "execution_count": null,
   "metadata": {},
   "outputs": [],
   "source": [
    "fm_predictor = # Enter your code here"
   ]
  },
  {
   "cell_type": "markdown",
   "metadata": {},
   "source": [
    "Now that your endpoint is 'InService', evaluate how your model performs on the test set. Compare that test set performance to the performance on the training set. \n",
    "\n",
    "### Key questions to consider:\n",
    "1. How does your model's performance on the test set compare to the training set? What can you deduce from this comparison? \n",
    "\n",
    "2. Are there obvious differences between the outcomes of metrics like accuracy, precision, and recall? If so, why might you be seeing those differences? \n",
    "\n",
    "3. Given your business situation and goals, which metric(s) is most important for you to consider here? Why?\n",
    "\n",
    "4. Is the outcome for the metric(s) you consider most important sufficient for what you need from a business standpoint? If not, what are some things you might change in your next iteration (in the feature engineering section, which is coming up next)? \n",
    "\n",
    "Use the cells below to answer these and other questions. Insert and delete cells where needed.\n",
    "\n",
    "#### <span style=\"color: blue;\">Project presentation: Record questions to these and other similar questions you might answer in this section in your project presentations. Record key details and decisions you've made in your project presentations.</span>"
   ]
  },
  {
   "cell_type": "markdown",
   "metadata": {},
   "source": [
    "The deployment process involves creating an instance of the specified size, in this case `ml.m4.xlarge`, with the model you trained and saved on Amazon S3. To get a prediction, you need to pass your data in a serialized form of JSON. The output you get from the inference will be in serialized JSON form as well, so you also need to deserialize it to get the predicted values."
   ]
  },
  {
   "cell_type": "code",
   "execution_count": null,
   "metadata": {},
   "outputs": [],
   "source": [
    "# Create a serializer function for the predictor\n",
    "import json\n",
    "from sagemaker.deserializers import JSONDeserializer\n",
    "from sagemaker.serializers import BaseSerializer\n",
    "\n",
    "class fm_serializer(BaseSerializer):\n",
    "    CONTENT_TYPE='application/json'\n",
    "    def serialize(data):\n",
    "            js = {'instances': []}\n",
    "            for row in data:\n",
    "                js['instances'].append({'features': row.tolist()})\n",
    "            return json.dumps(js)\n",
    "fm_predictor.serializer = fm_serializer\n",
    "fm_predictor.deserializer = JSONDeserializer()\n",
    "print(f\"Accepted content type: {fm_predictor.content_type}\")"
   ]
  },
  {
   "cell_type": "markdown",
   "metadata": {},
   "source": [
    "Check how your training set did. Use the endpoint to get predictions from your model.\n",
    "\n",
    "First, look at what a single prediction looks like."
   ]
  },
  {
   "cell_type": "markdown",
   "metadata": {},
   "source": [
    "Amazon SageMaker model containers must respond to requests within 60 seconds. The model itself can have a maximum processing time of 60 seconds before responding to the /invocations. To do that, call the `predict` function for 5 rows at a time and then add those rows to a list. "
   ]
  },
  {
   "cell_type": "code",
   "execution_count": null,
   "metadata": {},
   "outputs": [],
   "source": [
    "# Pass the X_train data to the deployed predictor \n",
    "ytrain_p = []\n",
    "for i in range(0, 1000, 5):\n",
    "    preds = fm_predictor.predict(<CODE>)<CODE> # Enter your code here\n",
    "    p = [ytrain_p.append(x['score']) for x in preds]"
   ]
  },
  {
   "cell_type": "markdown",
   "metadata": {},
   "source": [
    "**Question:** Now that you have inferences, do a sanity check. What are the minimum and maximum values predicted in the inferences? Do those correspond to the minimum and maximum values in the training data?"
   ]
  },
  {
   "cell_type": "code",
   "execution_count": null,
   "metadata": {},
   "outputs": [],
   "source": [
    "print('The minimum rating predicted is: ', <CODE>, # Enter your code here\n",
    "      'and the maximum is: ', <CODE> # Enter your code here\n",
    "     )"
   ]
  },
  {
   "cell_type": "markdown",
   "metadata": {},
   "source": [
    "Now, check your test dataset."
   ]
  },
  {
   "cell_type": "code",
   "execution_count": null,
   "metadata": {},
   "outputs": [],
   "source": [
    "Y_pred = []\n",
    "# Enter your code here"
   ]
  },
  {
   "cell_type": "markdown",
   "metadata": {},
   "source": [
    "**Question:** How are the min and max values alike in the predictions? Bonus point if you check the entire distribution (histogram)."
   ]
  },
  {
   "cell_type": "code",
   "execution_count": null,
   "metadata": {},
   "outputs": [],
   "source": [
    "max(Y_pred), min(Y_pred)"
   ]
  },
  {
   "cell_type": "code",
   "execution_count": null,
   "metadata": {},
   "outputs": [],
   "source": [
    "sns.distplot(Y_pred, kde=False, bins=4)"
   ]
  },
  {
   "cell_type": "markdown",
   "metadata": {},
   "source": [
    "Finally, calculate the mean squared error for the test set and see how much of an improvement it is from the baseline."
   ]
  },
  {
   "cell_type": "code",
   "execution_count": null,
   "metadata": {},
   "outputs": [],
   "source": [
    "print('MSE:', <CODE> )# Enter your code here"
   ]
  },
  {
   "cell_type": "markdown",
   "metadata": {},
   "source": [
    "For recommender systems, subjective accuracy also matters. Get some recommendations for a random user to see if they make intuitive sense.\n",
    "\n",
    "Try using user number 200, and see what they have watched and rated highly."
   ]
  },
  {
   "cell_type": "code",
   "execution_count": null,
   "metadata": {},
   "outputs": [],
   "source": [
    "reduced_df[<CODE>].sort_values(\n",
    "    ['star_rating', 'item'], ascending=[False, True]) # Enter your code here"
   ]
  },
  {
   "cell_type": "markdown",
   "metadata": {},
   "source": [
    "As you can see, this user likes to watch comedies, romance, and light-hearted movies and dislikes drama and fantasy movies. Let's see how your model predicts movie ratings for this user."
   ]
  },
  {
   "cell_type": "code",
   "execution_count": null,
   "metadata": {},
   "outputs": [],
   "source": [
    "def prepare_predictions(user_id, number_movies, columns):\n",
    "    # Create the sparse matrix similar to the one for training data\n",
    "    X = il_matrix((<CODE>)).astype('float32')# Enter your code here\n",
    "    movie_index_start = columns - number_movies\n",
    "\n",
    "    # Fill out the matrix. Each row will be the same user with every possible movie.\n",
    "    for row in range(number_movies):\n",
    "        X[row, user_id - 1] = <CODE> # Enter your code here\n",
    "        X[row, movie_index_start + row] = <CODE> # Enter your code here\n",
    "\n",
    "    return X\n",
    "\n",
    "user_200 = prepare_predictions(200, \n",
    "                               <CODE> # Enter your code here  , \n",
    "                               <CODE> # Enter your code here\n",
    "                              )"
   ]
  },
  {
   "cell_type": "markdown",
   "metadata": {},
   "source": [
    "Now create a list of all the ratings that the model would predict for user 200 for all movies."
   ]
  },
  {
   "cell_type": "code",
   "execution_count": null,
   "metadata": {},
   "outputs": [],
   "source": [
    "pred_200 = []\n",
    "for i in range(0, <CODE>):\n",
    "    preds = fm_predictor.predict(<CODE>)['predictions']\n",
    "    p = [pred_200.append(x['score']) for x in preds]"
   ]
  },
  {
   "cell_type": "markdown",
   "metadata": {},
   "source": [
    "Now loop through and predict user 200's ratings for every common video in the catalog to see which ones to recommend or not recommend. \n",
    "\n",
    "Create a new dataframe `titles` by using the `reduced_df` dataframe to group by the items. Use the `product_title` column and create another column `score` and add the values from `pred_200` to it."
   ]
  },
  {
   "cell_type": "code",
   "execution_count": null,
   "metadata": {},
   "outputs": [],
   "source": [
    "titles = reduced_df.groupby(<CODE>)[<CODE>].first().reset_index()\n",
    "titles['score'] = # Enter your code here"
   ]
  },
  {
   "cell_type": "markdown",
   "metadata": {},
   "source": [
    "**Question:** What products got the highest score?  \n",
    "\n",
    "**Hint**: Use the `sort_values` function to sort columns `score` and `item` and use parameter `asecnding=[False,True]`"
   ]
  },
  {
   "cell_type": "code",
   "execution_count": null,
   "metadata": {},
   "outputs": [],
   "source": [
    "# Enter your code here"
   ]
  },
  {
   "cell_type": "code",
   "execution_count": null,
   "metadata": {},
   "outputs": [],
   "source": [
    "# Enter your Answer here"
   ]
  },
  {
   "cell_type": "markdown",
   "metadata": {},
   "source": [
    "**Question:** What can you conclude from the highly rated and lowest rated shows for the user? "
   ]
  },
  {
   "cell_type": "code",
   "execution_count": null,
   "metadata": {},
   "outputs": [],
   "source": [
    "# Enter your Answer here"
   ]
  },
  {
   "cell_type": "markdown",
   "metadata": {},
   "source": [
    "See if your recommendations have correlations with other users. Try user 201. Perform the same operations as you did for user 200."
   ]
  },
  {
   "cell_type": "code",
   "execution_count": null,
   "metadata": {},
   "outputs": [],
   "source": [
    "user_201 = prepare_predictions(<CODE>, products.shape[0], customers.shape[0] + products.shape[0])\n",
    "\n",
    "pred_201 = []\n",
    "for i in range(0, user_201.shape[0], 5):\n",
    "    preds = fm_predictor.predict(user_201[i:i+5].toarray())['predictions']\n",
    "    p = [pred_201.append(x['score']) for x in preds]"
   ]
  },
  {
   "cell_type": "code",
   "execution_count": null,
   "metadata": {},
   "outputs": [],
   "source": [
    "plt.scatter(pred_200, pred_201)\n",
    "plt.show()"
   ]
  },
  {
   "cell_type": "markdown",
   "metadata": {},
   "source": [
    "**Question:** What can you conclude from the scatter plot between the two users?  "
   ]
  },
  {
   "cell_type": "code",
   "execution_count": null,
   "metadata": {},
   "outputs": [],
   "source": [
    "# Enter your answer here:"
   ]
  },
  {
   "cell_type": "markdown",
   "metadata": {},
   "source": [
    "Delete the endpoint you created for inference because you won't be using it anymore."
   ]
  },
  {
   "cell_type": "code",
   "execution_count": null,
   "metadata": {},
   "outputs": [],
   "source": [
    "sagemaker.Session().delete_endpoint(fm_predictor.endpoint)"
   ]
  },
  {
   "cell_type": "markdown",
   "metadata": {},
   "source": [
    "## <span style=\"color:red\"> End of Lab 3 </span>\n",
    "\n",
    "Save the project file to your local computer. Follow these steps:\n",
    "\n",
    "1. At the top of the page, click the **File** menu. \n",
    "\n",
    "1. Select **Download as**, and click **Notebook(.ipynb)**.  \n",
    "\n",
    "This downloads the current notebook to the default download folder on your computer."
   ]
  },
  {
   "cell_type": "markdown",
   "metadata": {},
   "source": [
    "# Iteration II\n",
    "\n",
    "# Step 4: Feature engineering\n",
    "\n",
    "You've now gone through one iteration of training and evaluating your model. Given that the outcome you reached for your model the first time probably wasn't sufficient for solving your business problem, what are some things you could change about your data to possibly improve model performance?\n",
    "\n",
    "### Key questions to consider:\n",
    "1. How might changing the machine learning problem help your dataset? You tried to use regression to solve the problem; can classification help?\n",
    "2. What do you need to do to change the machine learning problem to a machine learning classification problem? Write down the new problem statement for classification.\n",
    "\n",
    "#### <span style=\"color: blue;\">Project presentation: Record key decisions and methods you use in this section in your project presentations, as well as any new performance metrics you obtain after evaluating your model again.</span>"
   ]
  },
  {
   "cell_type": "markdown",
   "metadata": {},
   "source": [
    "Now change the training datasets to have a binary output depending on the rating they get. You will consider recommending something to a user when the rating is 5 stars, and you will save again as a protobuf format in Amazon S3. Do the following:  \n",
    "\n",
    "1. Use the `loadDataset` function with the option `regression=False` to create your training datasets.   \n",
    "2. Write the dataset as a protobuf format.  \n",
    "3. Retrain the model using `predictor_type='binary_classifier'`.   \n",
    "4. Deploy your model to an endpoint and evaluate the model, similar to how you did before on the test set.   \n",
    "5. Inspect how you did on the test set using a confusion matrix.   "
   ]
  },
  {
   "cell_type": "code",
   "execution_count": null,
   "metadata": {},
   "outputs": [],
   "source": [
    "X_train_class, Y_train_class = # Enter your code here\n",
    "X_test_class, Y_test_class = # Enter your code here"
   ]
  },
  {
   "cell_type": "code",
   "execution_count": null,
   "metadata": {},
   "outputs": [],
   "source": [
    "# Write dataset as a protobuf\n",
    "fm_train_data_path = writeDatasetToProtobuf(<CODE>) # Enter your code here    \n",
    "fm_test_data_path  = writeDatasetToProtobuf(<CODE>) # Enter your code here    \n",
    "  \n",
    "print(\"Training data S3 path: \", fm_train_data_path)\n",
    "print(\"Test data S3 path: \", fm_test_data_path)"
   ]
  },
  {
   "cell_type": "markdown",
   "metadata": {},
   "source": [
    "### Sample code\n",
    "\n",
    "```\n",
    "fm_train_data_path = writeDatasetToProtobuf(X_train_class, bucket, prefix, 'train_class', \"sparse\", Y_train_class)    \n",
    "fm_test_data_path  = writeDatasetToProtobuf(X_test_class, bucket, prefix, 'test_class', \"sparse\", Y_test_class) \n",
    "```"
   ]
  },
  {
   "cell_type": "markdown",
   "metadata": {},
   "source": [
    "Finally, retrain the model, changing from regression to binary classification. Use the same code and settings that you did when you trained your model previously, but change the `predictor_type='binary_classifier`."
   ]
  },
  {
   "cell_type": "code",
   "execution_count": null,
   "metadata": {
    "jupyter": {
     "outputs_hidden": true
    }
   },
   "outputs": [],
   "source": [
    "# Retrain your model\n",
    "# Enter your code here"
   ]
  },
  {
   "cell_type": "markdown",
   "metadata": {},
   "source": [
    "### Sample code \n",
    "```\n",
    "from sagemaker import get_execution_role\n",
    "from sagemaker import image_uris\n",
    "\n",
    "#output_prefix= 's3://<LabBucketName>/sagemaker-fm/model'\n",
    "\n",
    "output_prefix = 's3://' + bucket + '/sagemaker-fm/model'\n",
    "instance_type='ml.m4.xlarge'\n",
    "batch_size = 512\n",
    "\n",
    "fm = sagemaker.estimator.Estimator(\n",
    "    image_uris.retrieve(\"factorization-machines\",boto3.Session().region_name),\n",
    "    role, \n",
    "    instance_count=1, \n",
    "    instance_type=instance_type,\n",
    "    output_path=output_prefix,\n",
    "    sagemaker_session=sagemaker.Session()\n",
    ")\n",
    "\n",
    "fm.set_hyperparameters(feature_dim=X_train.shape[1],\n",
    "                     # predictor_type='regressor',\n",
    "                       predictor_type='binary_classifier',\n",
    "                       mini_batch_size=batch_size,\n",
    "                       num_factors=128,\n",
    "                       epochs=25,\n",
    "                       clip_gradient=5.0,\n",
    "                       rescale_grad=1.0/batch_size\n",
    "                       )\n",
    "\n",
    "fm.fit({'train': fm_train_data_path, 'test': fm_test_data_path})\n",
    "```"
   ]
  },
  {
   "cell_type": "markdown",
   "metadata": {},
   "source": [
    "Evaluate the performance of this new model. Deploy the model, determine a serializer, and then pass the test data."
   ]
  },
  {
   "cell_type": "code",
   "execution_count": null,
   "metadata": {},
   "outputs": [],
   "source": [
    "from sagemaker import deserializers\n",
    "fm_predictor = fm.deploy(initial_instance_count=1, \n",
    "                         instance_type='ml.m4.xlarge', \n",
    "                         serializer=fm_serializer, \n",
    "                         deserializer=JSONDeserializer())"
   ]
  },
  {
   "cell_type": "code",
   "execution_count": null,
   "metadata": {},
   "outputs": [],
   "source": [
    "# Pass the testing data to the classifier and get all the predictions\n",
    "Y_pred = []\n",
    "for i in range(0, X_test_class.shape[0], 5):\n",
    "    preds = fm_predictor.predict(X_test_class[i:i+5].toarray())['predictions']\n",
    "    p = [Y_pred.append(x['score']) for x in preds]"
   ]
  },
  {
   "cell_type": "markdown",
   "metadata": {},
   "source": [
    "#### Inspect the results\n",
    "\n",
    "To inspect how well the classifier is doing, calculate and plot a confusion matrix. Use the implementation from **Scikit-Learn**."
   ]
  },
  {
   "cell_type": "code",
   "execution_count": null,
   "metadata": {},
   "outputs": [],
   "source": [
    "from sklearn.metrics import confusion_matrix"
   ]
  },
  {
   "cell_type": "code",
   "execution_count": null,
   "metadata": {},
   "outputs": [],
   "source": [
    "true = Y_test_class.astype(int)\n",
    "predicted = [1 if value > 0.5 else 0 for value in Y_pred]\n",
    "conf_matrix = confusion_matrix(true, predicted)\n",
    "print(conf_matrix)\n",
    "sns.heatmap(conf_matrix)"
   ]
  },
  {
   "cell_type": "markdown",
   "metadata": {},
   "source": [
    "**Question:** What is the accuracy of your model?  \n",
    "\n",
    "**Hint**:\n",
    "$$ Accuracy = \\frac{TP + TN}{TP + FP + FN + TN} $$"
   ]
  },
  {
   "cell_type": "code",
   "execution_count": null,
   "metadata": {},
   "outputs": [],
   "source": [
    "# Accuracy\n",
    "# Enter your code here"
   ]
  },
  {
   "cell_type": "markdown",
   "metadata": {},
   "source": [
    "**Question:** How did your model do compared to a naive baseline model of predicting everything as 1?"
   ]
  },
  {
   "cell_type": "code",
   "execution_count": null,
   "metadata": {},
   "outputs": [],
   "source": [
    "(reduced_df.star_rating > 4).value_counts() / reduced_df.shape[0] * 100"
   ]
  },
  {
   "cell_type": "code",
   "execution_count": null,
   "metadata": {},
   "outputs": [],
   "source": [
    "# Enter your answer here"
   ]
  },
  {
   "cell_type": "code",
   "execution_count": null,
   "metadata": {},
   "outputs": [],
   "source": [
    "# Delete inference endpoint\n",
    "sagemaker.Session().delete_endpoint(fm_predictor.endpoint)"
   ]
  },
  {
   "cell_type": "markdown",
   "metadata": {},
   "source": [
    "## Combining powers with KNN\n",
    "\n",
    "You saw that your classifier model is doing a better job than the regressor model. Now, see if you can repackage it to fit a k-nearest neighbor (KNN) model to predict the *k closest* items to the one a customer likes and then recommend those, instead of predicting the ratings (regressor) or whether a user would like a movie or not (binary classification).\n",
    "\n",
    "Start by downloading the model from Amazon S3. Then, repackage it to fit a KNN model.\n",
    "\n",
    "**Note:** Make sure the kernel you are using is `conda_mxnet_p36` so you can run the next cells."
   ]
  },
  {
   "cell_type": "markdown",
   "metadata": {},
   "source": [
    "### Download model data"
   ]
  },
  {
   "cell_type": "code",
   "execution_count": null,
   "metadata": {},
   "outputs": [],
   "source": [
    "import mxnet as mx\n",
    "model_file_name = 'model.tar.gz'\n",
    "model_full_path = f'{fm.output_path}/{fm.latest_training_job.job_name}/output/{model_file_name}'\n",
    "print(f'Model Path: {model_full_path}')\n",
    "\n",
    "# Download FM model \n",
    "os.system('aws s3 cp ' + model_full_path + ' .')\n",
    "\n",
    "# Extract model file for loading to MXNet\n",
    "os.system('tar xzvf ' + model_file_name)\n",
    "os.system('unzip -o model_algo-1')\n",
    "os.system('mv symbol.json model-symbol.json')\n",
    "os.system('mv params model-0000.params')"
   ]
  },
  {
   "cell_type": "markdown",
   "metadata": {},
   "source": [
    "### Extract model data to create item and user latent matrixes"
   ]
  },
  {
   "cell_type": "markdown",
   "metadata": {},
   "source": [
    "Now you are going to extract the values that represent each user and item after training a factorization machine. The result of the training is two matrices that, when multiplied together, will represent the target values (zero or one) as closely as possible.\n",
    "\n",
    "In more mathematical terms, factorization machines model output consists of three N-dimensional arrays (ndarrays):\n",
    "\n",
    "    V – a (N x k) matrix, where:\n",
    "        k is the dimension of the latent space\n",
    "        N is the total count of users and items\n",
    "    w – an N-dimensional vector\n",
    "    b – a single number: the bias term\n",
    "\n",
    "To extract these values, which you will use as features, you need to first load the model. Then, extract the values of each of the three matrices and build the `knn_item_matrix` and t`knn_user_matrix` matrices."
   ]
  },
  {
   "cell_type": "code",
   "execution_count": null,
   "metadata": {},
   "outputs": [],
   "source": [
    "# Extract model data\n",
    "m = mx.module.Module.load('./model', 0, False, label_names=['out_label'])\n",
    "V = m._arg_params['v'].asnumpy()\n",
    "w = m._arg_params['w1_weight'].asnumpy()\n",
    "b = m._arg_params['w0_weight'].asnumpy()\n",
    "\n",
    "nb_users = customers.shape[0]\n",
    "nb_item = products.shape[0]\n",
    "\n",
    "# Item latent matrix - concat(V[i], w[i]).  \n",
    "knn_item_matrix = np.concatenate((V[nb_users:], w[nb_users:]), axis=1)\n",
    "knn_train_label = np.arange(1,nb_item+1)\n",
    "\n",
    "# User latent matrix - concat (V[u], 1) \n",
    "ones = np.ones(nb_users).reshape((nb_users, 1))\n",
    "knn_user_matrix = np.concatenate((V[:nb_users], ones), axis=1)"
   ]
  },
  {
   "cell_type": "markdown",
   "metadata": {},
   "source": [
    "## Building KNN model\n",
    "\n",
    "Now that you have the training data, you can now feed it to a KNN model. As you did before, you need to save the protobuf IO formatted data to Amazon S3, instantiate the model, and set the hyperparameters.\n",
    "\n",
    "Start by setting up the path and the estimator."
   ]
  },
  {
   "cell_type": "code",
   "execution_count": null,
   "metadata": {},
   "outputs": [],
   "source": [
    "print('KNN train features shape = ', knn_item_matrix.shape)\n",
    "knn_prefix = 'knn'\n",
    "train_key = 'train_knn'\n",
    "knn_output_prefix  = f's3://{bucket}/{knn_prefix}/output'\n",
    "knn_train_data_path = writeDatasetToProtobuf(knn_item_matrix, bucket, \n",
    "                                             knn_prefix, train_key, \n",
    "                                             \"dense\", \n",
    "                                             knn_train_label)\n",
    "print(f'Uploaded KNN train data: {knn_train_data_path}')\n",
    "\n",
    "nb_recommendations = 100\n",
    "\n",
    "# Set up the estimator\n",
    "knn = sagemaker.estimator.Estimator(\n",
    "    image_uris.retrieve(\"knn\",boto3.Session().region_name),\n",
    "    get_execution_role(),\n",
    "    instance_count=1,\n",
    "    instance_type=instance_type,\n",
    "    output_path=knn_output_prefix,\n",
    "    sagemaker_session=sagemaker.Session()\n",
    ")"
   ]
  },
  {
   "cell_type": "markdown",
   "metadata": {},
   "source": [
    "Now, you will set the hyperparameters. Note that this approach uses the default `index_type` parameter for KNN. It is precise but can be slow for large datasets. In such cases, you may want to use a different `index_type` parameter leading to an approximate, yet faster answer.\n",
    "\n",
    "For more information about index types, see [k-NN Hyperparameters](https://docs.aws.amazon.com/sagemaker/latest/dg/kNN_hyperparameters.html)."
   ]
  },
  {
   "cell_type": "code",
   "execution_count": null,
   "metadata": {
    "jupyter": {
     "outputs_hidden": true
    }
   },
   "outputs": [],
   "source": [
    "knn.set_hyperparameters(feature_dim=knn_item_matrix.shape[1], \n",
    "                        k=nb_recommendations, \n",
    "                        index_metric=\"INNER_PRODUCT\", \n",
    "                        predictor_type='classifier', \n",
    "                        sample_size=200000)\n",
    "\n",
    "\n",
    "knn.fit({'train': knn_train_data_path})"
   ]
  },
  {
   "cell_type": "markdown",
   "metadata": {},
   "source": [
    "Now that you have a trained model, save it so you can reference it for batch inference."
   ]
  },
  {
   "cell_type": "code",
   "execution_count": null,
   "metadata": {},
   "outputs": [],
   "source": [
    "knn_model_name =  knn.latest_training_job.job_name\n",
    "print(\"created model: \", knn_model_name)\n",
    "\n",
    "# Save the model so that you can reference it in the next step during batch inference\n",
    "sm = boto3.client(service_name='sagemaker')\n",
    "primary_container = {\n",
    "    'Image': knn.image_name,\n",
    "    'ModelDataUrl': knn.model_data,\n",
    "}\n",
    "\n",
    "knn_model = sm.create_model(\n",
    "        ModelName = knn.latest_training_job.job_name,\n",
    "        ExecutionRoleArn = knn.role,\n",
    "        PrimaryContainer = primary_container)\n",
    "print(\"saved the model\")"
   ]
  },
  {
   "cell_type": "markdown",
   "metadata": {},
   "source": [
    "## Batch transform\n",
    "\n",
    "To see the predictions your model made, you would have to create inferences and see if they make sense. You could repeat the process as last time and check one user at a time with all possible combinations of items. However, Amazon SageMaker provides a batch transform job that you can use to do inference over the entire dataset. For more information, see [Get Inferences for an Entire Dataset with Batch Transform](https://docs.aws.amazon.com/sagemaker/latest/dg/how-it-works-batch.html).\n",
    "\n",
    "In this section, you will use a batch transform to predict the top 100 recommendations for all the users."
   ]
  },
  {
   "cell_type": "code",
   "execution_count": null,
   "metadata": {
    "jupyter": {
     "outputs_hidden": true
    }
   },
   "outputs": [],
   "source": [
    "# Upload inference data to S3\n",
    "knn_batch_data_path = writeDatasetToProtobuf(knn_user_matrix,\n",
    "                                             bucket, \n",
    "                                             knn_prefix, \n",
    "                                             train_key, \n",
    "                                             \"dense\")\n",
    "print (\"Batch inference data path: \",knn_batch_data_path)\n",
    "\n",
    "# Initialize the transformer object\n",
    "transformer =sagemaker.transformer.Transformer(\n",
    "    base_transform_job_name=\"knn\",\n",
    "    model_name=knn_model_name,\n",
    "    instance_count=1,\n",
    "    instance_type=instance_type,\n",
    "    output_path=knn_output_prefix,\n",
    "    accept=\"application/jsonlines; verbose=true\",\n",
    "    \n",
    ")\n",
    "\n",
    "# Start a transform job\n",
    "transformer.transform(knn_batch_data_path, \n",
    "                      content_type='application/x-recordio-protobuf',\n",
    "                      split_type='RecordIO')\n",
    "transformer.wait()\n",
    "\n",
    " "
   ]
  },
  {
   "cell_type": "markdown",
   "metadata": {},
   "source": [
    "You are now free to examine the predictions. Download them first."
   ]
  },
  {
   "cell_type": "code",
   "execution_count": null,
   "metadata": {},
   "outputs": [],
   "source": [
    "# Download predictions \n",
    "results_file_name = \"inference_output\"\n",
    "inference_output_file = \"knn/output/train_knn.out\"\n",
    "s3_client = boto3.client('s3')\n",
    "s3_client.download_file(bucket, inference_output_file, results_file_name)"
   ]
  },
  {
   "cell_type": "code",
   "execution_count": null,
   "metadata": {},
   "outputs": [],
   "source": [
    "# Open file and load it to memory\n",
    "with open(results_file_name) as f:\n",
    "    results = f.readlines() "
   ]
  },
  {
   "cell_type": "markdown",
   "metadata": {},
   "source": [
    "The results contain the 100 nearest neighbor movie IDs with their corresponding distances. See how it looks for user number 200."
   ]
  },
  {
   "cell_type": "code",
   "execution_count": null,
   "metadata": {
    "scrolled": true
   },
   "outputs": [],
   "source": [
    "test_user_idx = 200\n",
    "u_one_json = json.loads(results[test_user_idx])\n",
    "recommended_movies = [int(movie_id) for movie_id in u_one_json['labels']]\n",
    "distances = [round(distance, 4) for distance in u_one_json['distances']]\n",
    "\n",
    "print(f'Recommended movie Ids for user #{test_user_idx} : {recommended_movies}')\n",
    "\n",
    "print(f'Movie distances for user #{test_user_idx} : {distances}')"
   ]
  },
  {
   "cell_type": "markdown",
   "metadata": {},
   "source": [
    "You got the movies closest to user 200's tastes. Now, you can see the titles."
   ]
  },
  {
   "cell_type": "code",
   "execution_count": null,
   "metadata": {},
   "outputs": [],
   "source": [
    "titles_200 = reduced_df[reduced_df.item.isin(recommended_movies)].product_title.unique()\n",
    "titles_200"
   ]
  },
  {
   "cell_type": "markdown",
   "metadata": {},
   "source": [
    "Compare them with the favorite movies for user 200."
   ]
  },
  {
   "cell_type": "code",
   "execution_count": null,
   "metadata": {},
   "outputs": [],
   "source": [
    "reduced_df.query('user==200 & star_rating == 5')"
   ]
  },
  {
   "cell_type": "markdown",
   "metadata": {},
   "source": [
    "**Question:** Do you think these recommendations make sense? Explain why or why not."
   ]
  },
  {
   "cell_type": "code",
   "execution_count": null,
   "metadata": {},
   "outputs": [],
   "source": [
    "# Enter your answer here:"
   ]
  },
  {
   "cell_type": "code",
   "execution_count": null,
   "metadata": {},
   "outputs": [],
   "source": [
    "np.isin(titles_200, titles.tail(100).product_title.unique()).sum()"
   ]
  },
  {
   "cell_type": "markdown",
   "metadata": {},
   "source": [
    "**Super bonus question:** Recover the predictions for user 201, and see how they compare with user 200. Are they still correlated? Do you think this approach was an improvement over the first regressor?"
   ]
  },
  {
   "cell_type": "code",
   "execution_count": null,
   "metadata": {},
   "outputs": [],
   "source": [
    "# Recover the predictions for user 201\n",
    "\n",
    "test_user_idx = 201\n",
    "u_one_json = json.loads(results[test_user_idx])\n",
    "recommended_movies_201 = [int(movie_id) for movie_id in u_one_json['labels']]"
   ]
  },
  {
   "cell_type": "code",
   "execution_count": null,
   "metadata": {},
   "outputs": [],
   "source": [
    "# Print out recommendations\n",
    "\n",
    "titles_201 = reduced_df[reduced_df.item.isin(recommended_movies_201)].product_title.unique()\n",
    "titles_201"
   ]
  },
  {
   "cell_type": "code",
   "execution_count": null,
   "metadata": {},
   "outputs": [],
   "source": [
    "# Compare the two predictions\n",
    "\n",
    "overlap = np.isin(titles_200, titles_201).sum()\n",
    "print(f'The recommendations for \"user 201\" that are present in \"user 200\" are: {overlap} out of: {len(titles_200)}')"
   ]
  },
  {
   "cell_type": "code",
   "execution_count": null,
   "metadata": {},
   "outputs": [],
   "source": [
    "# Compare with user 201 likes\n",
    "\n",
    "reduced_df.query('user==201 & star_rating == 5')"
   ]
  },
  {
   "cell_type": "code",
   "execution_count": null,
   "metadata": {},
   "outputs": [],
   "source": [
    "test_user_idx = 900\n",
    "u_one_json = json.loads(results[test_user_idx])\n",
    "recommended_movies_900 = [int(movie_id) for movie_id in u_one_json['labels']]\n",
    "titles_900 = reduced_df[reduced_df.item.isin(recommended_movies_201)].product_title.unique()\n",
    "overlap_900 = np.isin(titles_200, titles_900).sum()\n",
    "print(f'The recommendations for \"user 900\" that are present in \"user 200\" are: {overlap} out of: {len(titles_200)}')\n",
    "reduced_df.query('user==900 & star_rating == 5')"
   ]
  },
  {
   "cell_type": "code",
   "execution_count": null,
   "metadata": {},
   "outputs": [],
   "source": [
    "# Enter your answer here:"
   ]
  },
  {
   "cell_type": "markdown",
   "metadata": {},
   "source": [
    "There are a number of things you can do to improve these models, such as adding features besides rating, trying different feature selection, hyperparameter tuning, and changing the models. The most sophisticated recommendation algorithms are based on deep learning. This can also be explored."
   ]
  },
  {
   "cell_type": "markdown",
   "metadata": {},
   "source": [
    "That is it! You now have a working recommender system that can tell you the top 100 movies for a user. Feel free to optimize and play with the hyperparameters and data to see if you can create an even better recommender system."
   ]
  },
  {
   "cell_type": "markdown",
   "metadata": {},
   "source": [
    "## Final thoughts\n",
    "\n",
    "In this notebook, you used different techniques to create a recommendations system using only Amazon SageMaker built-in algorithms. You learned how to prepare data in different formats and do feature engineering. You were able to identify problems with your trained models and reframe the problem in different ways to achieve an end result. \n",
    "\n",
    "As you can see now, training a model requires a lot of steps, preparation, and validation. It is not a streamlined process but an iterative one. You can think of this as a virtuous cycle that usually has the following steps:\n",
    "\n",
    "- Define the (business) problem.\n",
    "- Frame the problem as a machine learning problem.\n",
    "- Prepare data and perform freature engineerin.\n",
    "- Train and evaluate the model.\n",
    "- Deploy the model (inference).\n",
    "- Monitor and evaluate.\n",
    "\n",
    "Every step has its own challenges, and each of the steps feeds each other. So it is important to pay attention to the entire pipeline, not only the model training.\n"
   ]
  }
 ],
 "metadata": {
  "kernelspec": {
   "display_name": "conda_python3",
   "language": "python",
   "name": "conda_python3"
  },
  "language_info": {
   "codemirror_mode": {
    "name": "ipython",
    "version": 3
   },
   "file_extension": ".py",
   "mimetype": "text/x-python",
   "name": "python",
   "nbconvert_exporter": "python",
   "pygments_lexer": "ipython3",
   "version": "3.8.12"
  }
 },
 "nbformat": 4,
 "nbformat_minor": 4
}
